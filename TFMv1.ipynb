{
  "cells": [
    {
      "cell_type": "code",
      "execution_count": 1,
      "metadata": {
        "id": "CWSGBnP8U4FK"
      },
      "outputs": [],
      "source": [
        "import pandas as pd\n",
        "import numpy as np\n",
        "import re\n",
        "import tensorflow as tf\n",
        "import matplotlib.pyplot as plt\n",
        "%matplotlib inline"
      ]
    },
    {
      "cell_type": "code",
      "execution_count": 2,
      "metadata": {
        "colab": {
          "base_uri": "https://localhost:8080/"
        },
        "id": "YF6t0sKpGWTx",
        "outputId": "44d355c4-b2c8-461d-d5a7-0f255e2b8911"
      },
      "outputs": [
        {
          "output_type": "stream",
          "name": "stdout",
          "text": [
            "Found GPU at: /device:GPU:0\n"
          ]
        }
      ],
      "source": [
        "#Check that we execute with gpu\n",
        "device_name = tf.test.gpu_device_name()\n",
        "if device_name != '/device:GPU:0':\n",
        "  print(('GPU device not found'))\n",
        "print('Found GPU at: {}'.format(device_name))"
      ]
    },
    {
      "cell_type": "code",
      "execution_count": 3,
      "metadata": {
        "id": "5vCebaRBcFug"
      },
      "outputs": [],
      "source": [
        "#Read tagged domains\n",
        "dom_tagged = pd.read_csv('https://raw.githubusercontent.com/polmoya/tfmUOC/main/clean_data.csv', sep=\",\")  #Option1 with datasets (phishing + surbl + spam)\n",
        "#dom_tagged = pd.read_csv('https://raw.githubusercontent.com/polmoya/tfmUOC/main/clean_data_1.csv', sep=\",\") #Option2 with dataset (malicious mix)"
      ]
    },
    {
      "cell_type": "code",
      "execution_count": 4,
      "metadata": {
        "colab": {
          "base_uri": "https://localhost:8080/",
          "height": 206
        },
        "id": "5wheNEjdWwTI",
        "outputId": "802ebf88-90d9-46ed-9526-3e02278ede35"
      },
      "outputs": [
        {
          "output_type": "execute_result",
          "data": {
            "text/plain": [
              "           dom_name           sld  \\\n",
              "0        google.com        google   \n",
              "1  gtld-servers.net  gtld-servers   \n",
              "2       youtube.com       youtube   \n",
              "3      facebook.com      facebook   \n",
              "4    akamaiedge.net    akamaiedge   \n",
              "\n",
              "                                           sld_clean  dangerous  \n",
              "0  ##############################################...          0  \n",
              "1  ##############################################...          0  \n",
              "2  ##############################################...          0  \n",
              "3  ##############################################...          0  \n",
              "4  ##############################################...          0  "
            ],
            "text/html": [
              "\n",
              "  <div id=\"df-eca5aff0-4586-4cda-a709-2efcdf84bc98\">\n",
              "    <div class=\"colab-df-container\">\n",
              "      <div>\n",
              "<style scoped>\n",
              "    .dataframe tbody tr th:only-of-type {\n",
              "        vertical-align: middle;\n",
              "    }\n",
              "\n",
              "    .dataframe tbody tr th {\n",
              "        vertical-align: top;\n",
              "    }\n",
              "\n",
              "    .dataframe thead th {\n",
              "        text-align: right;\n",
              "    }\n",
              "</style>\n",
              "<table border=\"1\" class=\"dataframe\">\n",
              "  <thead>\n",
              "    <tr style=\"text-align: right;\">\n",
              "      <th></th>\n",
              "      <th>dom_name</th>\n",
              "      <th>sld</th>\n",
              "      <th>sld_clean</th>\n",
              "      <th>dangerous</th>\n",
              "    </tr>\n",
              "  </thead>\n",
              "  <tbody>\n",
              "    <tr>\n",
              "      <th>0</th>\n",
              "      <td>google.com</td>\n",
              "      <td>google</td>\n",
              "      <td>##############################################...</td>\n",
              "      <td>0</td>\n",
              "    </tr>\n",
              "    <tr>\n",
              "      <th>1</th>\n",
              "      <td>gtld-servers.net</td>\n",
              "      <td>gtld-servers</td>\n",
              "      <td>##############################################...</td>\n",
              "      <td>0</td>\n",
              "    </tr>\n",
              "    <tr>\n",
              "      <th>2</th>\n",
              "      <td>youtube.com</td>\n",
              "      <td>youtube</td>\n",
              "      <td>##############################################...</td>\n",
              "      <td>0</td>\n",
              "    </tr>\n",
              "    <tr>\n",
              "      <th>3</th>\n",
              "      <td>facebook.com</td>\n",
              "      <td>facebook</td>\n",
              "      <td>##############################################...</td>\n",
              "      <td>0</td>\n",
              "    </tr>\n",
              "    <tr>\n",
              "      <th>4</th>\n",
              "      <td>akamaiedge.net</td>\n",
              "      <td>akamaiedge</td>\n",
              "      <td>##############################################...</td>\n",
              "      <td>0</td>\n",
              "    </tr>\n",
              "  </tbody>\n",
              "</table>\n",
              "</div>\n",
              "      <button class=\"colab-df-convert\" onclick=\"convertToInteractive('df-eca5aff0-4586-4cda-a709-2efcdf84bc98')\"\n",
              "              title=\"Convert this dataframe to an interactive table.\"\n",
              "              style=\"display:none;\">\n",
              "        \n",
              "  <svg xmlns=\"http://www.w3.org/2000/svg\" height=\"24px\"viewBox=\"0 0 24 24\"\n",
              "       width=\"24px\">\n",
              "    <path d=\"M0 0h24v24H0V0z\" fill=\"none\"/>\n",
              "    <path d=\"M18.56 5.44l.94 2.06.94-2.06 2.06-.94-2.06-.94-.94-2.06-.94 2.06-2.06.94zm-11 1L8.5 8.5l.94-2.06 2.06-.94-2.06-.94L8.5 2.5l-.94 2.06-2.06.94zm10 10l.94 2.06.94-2.06 2.06-.94-2.06-.94-.94-2.06-.94 2.06-2.06.94z\"/><path d=\"M17.41 7.96l-1.37-1.37c-.4-.4-.92-.59-1.43-.59-.52 0-1.04.2-1.43.59L10.3 9.45l-7.72 7.72c-.78.78-.78 2.05 0 2.83L4 21.41c.39.39.9.59 1.41.59.51 0 1.02-.2 1.41-.59l7.78-7.78 2.81-2.81c.8-.78.8-2.07 0-2.86zM5.41 20L4 18.59l7.72-7.72 1.47 1.35L5.41 20z\"/>\n",
              "  </svg>\n",
              "      </button>\n",
              "      \n",
              "  <style>\n",
              "    .colab-df-container {\n",
              "      display:flex;\n",
              "      flex-wrap:wrap;\n",
              "      gap: 12px;\n",
              "    }\n",
              "\n",
              "    .colab-df-convert {\n",
              "      background-color: #E8F0FE;\n",
              "      border: none;\n",
              "      border-radius: 50%;\n",
              "      cursor: pointer;\n",
              "      display: none;\n",
              "      fill: #1967D2;\n",
              "      height: 32px;\n",
              "      padding: 0 0 0 0;\n",
              "      width: 32px;\n",
              "    }\n",
              "\n",
              "    .colab-df-convert:hover {\n",
              "      background-color: #E2EBFA;\n",
              "      box-shadow: 0px 1px 2px rgba(60, 64, 67, 0.3), 0px 1px 3px 1px rgba(60, 64, 67, 0.15);\n",
              "      fill: #174EA6;\n",
              "    }\n",
              "\n",
              "    [theme=dark] .colab-df-convert {\n",
              "      background-color: #3B4455;\n",
              "      fill: #D2E3FC;\n",
              "    }\n",
              "\n",
              "    [theme=dark] .colab-df-convert:hover {\n",
              "      background-color: #434B5C;\n",
              "      box-shadow: 0px 1px 3px 1px rgba(0, 0, 0, 0.15);\n",
              "      filter: drop-shadow(0px 1px 2px rgba(0, 0, 0, 0.3));\n",
              "      fill: #FFFFFF;\n",
              "    }\n",
              "  </style>\n",
              "\n",
              "      <script>\n",
              "        const buttonEl =\n",
              "          document.querySelector('#df-eca5aff0-4586-4cda-a709-2efcdf84bc98 button.colab-df-convert');\n",
              "        buttonEl.style.display =\n",
              "          google.colab.kernel.accessAllowed ? 'block' : 'none';\n",
              "\n",
              "        async function convertToInteractive(key) {\n",
              "          const element = document.querySelector('#df-eca5aff0-4586-4cda-a709-2efcdf84bc98');\n",
              "          const dataTable =\n",
              "            await google.colab.kernel.invokeFunction('convertToInteractive',\n",
              "                                                     [key], {});\n",
              "          if (!dataTable) return;\n",
              "\n",
              "          const docLinkHtml = 'Like what you see? Visit the ' +\n",
              "            '<a target=\"_blank\" href=https://colab.research.google.com/notebooks/data_table.ipynb>data table notebook</a>'\n",
              "            + ' to learn more about interactive tables.';\n",
              "          element.innerHTML = '';\n",
              "          dataTable['output_type'] = 'display_data';\n",
              "          await google.colab.output.renderOutput(dataTable, element);\n",
              "          const docLink = document.createElement('div');\n",
              "          docLink.innerHTML = docLinkHtml;\n",
              "          element.appendChild(docLink);\n",
              "        }\n",
              "      </script>\n",
              "    </div>\n",
              "  </div>\n",
              "  "
            ]
          },
          "metadata": {},
          "execution_count": 4
        }
      ],
      "source": [
        "dom_tagged.head()"
      ]
    },
    {
      "cell_type": "code",
      "execution_count": 5,
      "metadata": {
        "id": "4eyPqutXiaB7"
      },
      "outputs": [],
      "source": [
        "#Onehotencode of an sld\n",
        "#Input: String, sld\n",
        "#Output: Tensor with value the one_hot_encode of sld\n",
        "def onehotencode(sld):\n",
        "  #Character '#' represents the dummy variable\n",
        "  alphabets = {'a' : 0, 'b': 1, 'c':2, 'd':3, 'e':4, 'f':5, 'g':6, 'h':7, 'i':8, 'j':9, 'k':10, 'l':11, 'm':12, 'n':13, 'o':14, \n",
        "               'p': 15, 'q': 16, 'r':17, 's': 18, 't': 19, 'u': 20, 'v': 21, 'w': 22, 'x': 23, 'y': 24, 'z': 25, \n",
        "               '0': 26, '1': 27, '2': 28, '3': 29, '4': 30, '5': 31, '6': 32, '7': 33, '8': 34, '9': 35, '-': 36, '#': 37}\n",
        "  idxs = [alphabets[ch] for ch in sld]\n",
        "  return tf.one_hot(idxs, 37, dtype=tf.float16)"
      ]
    },
    {
      "cell_type": "code",
      "execution_count": 6,
      "metadata": {
        "id": "zuvcoG8ScGF7"
      },
      "outputs": [],
      "source": [
        "#Funcio realitza el one_hot_encode de la llista de slds.\n",
        "#One_hot_encode of the slds from a dataframe\n",
        "#Input: dataframe\n",
        "#Output: Column 'sld_one_hot' added to dataframe\n",
        "def onehotencode_column(df):\n",
        "  #Extract list of sld_clean\n",
        "  sld = df['sld_clean'].values.tolist()\n",
        "  one_hot_sld = []\n",
        "  for x in sld:\n",
        "    one_hot_sld.append(onehotencode(x))\n",
        "  #Add to dataframe the sld_clean values one_hot_encoded\n",
        "  df['sld_one_hot'] = one_hot_sld"
      ]
    },
    {
      "cell_type": "code",
      "execution_count": 7,
      "metadata": {
        "id": "rnpChmN5sX3u"
      },
      "outputs": [],
      "source": [
        "onehotencode_column(dom_tagged)"
      ]
    },
    {
      "cell_type": "code",
      "execution_count": 8,
      "metadata": {
        "id": "d5qkdN0jXk1o",
        "colab": {
          "base_uri": "https://localhost:8080/",
          "height": 206
        },
        "outputId": "5060e626-c816-4f76-c65f-c112346488eb"
      },
      "outputs": [
        {
          "output_type": "execute_result",
          "data": {
            "text/plain": [
              "           dom_name           sld  \\\n",
              "0        google.com        google   \n",
              "1  gtld-servers.net  gtld-servers   \n",
              "2       youtube.com       youtube   \n",
              "3      facebook.com      facebook   \n",
              "4    akamaiedge.net    akamaiedge   \n",
              "\n",
              "                                           sld_clean  dangerous  \\\n",
              "0  ##############################################...          0   \n",
              "1  ##############################################...          0   \n",
              "2  ##############################################...          0   \n",
              "3  ##############################################...          0   \n",
              "4  ##############################################...          0   \n",
              "\n",
              "                                         sld_one_hot  \n",
              "0  ((tf.Tensor(0.0, shape=(), dtype=float16), tf....  \n",
              "1  ((tf.Tensor(0.0, shape=(), dtype=float16), tf....  \n",
              "2  ((tf.Tensor(0.0, shape=(), dtype=float16), tf....  \n",
              "3  ((tf.Tensor(0.0, shape=(), dtype=float16), tf....  \n",
              "4  ((tf.Tensor(0.0, shape=(), dtype=float16), tf....  "
            ],
            "text/html": [
              "\n",
              "  <div id=\"df-90e1c08c-1508-4b13-8255-5a2b3b50b692\">\n",
              "    <div class=\"colab-df-container\">\n",
              "      <div>\n",
              "<style scoped>\n",
              "    .dataframe tbody tr th:only-of-type {\n",
              "        vertical-align: middle;\n",
              "    }\n",
              "\n",
              "    .dataframe tbody tr th {\n",
              "        vertical-align: top;\n",
              "    }\n",
              "\n",
              "    .dataframe thead th {\n",
              "        text-align: right;\n",
              "    }\n",
              "</style>\n",
              "<table border=\"1\" class=\"dataframe\">\n",
              "  <thead>\n",
              "    <tr style=\"text-align: right;\">\n",
              "      <th></th>\n",
              "      <th>dom_name</th>\n",
              "      <th>sld</th>\n",
              "      <th>sld_clean</th>\n",
              "      <th>dangerous</th>\n",
              "      <th>sld_one_hot</th>\n",
              "    </tr>\n",
              "  </thead>\n",
              "  <tbody>\n",
              "    <tr>\n",
              "      <th>0</th>\n",
              "      <td>google.com</td>\n",
              "      <td>google</td>\n",
              "      <td>##############################################...</td>\n",
              "      <td>0</td>\n",
              "      <td>((tf.Tensor(0.0, shape=(), dtype=float16), tf....</td>\n",
              "    </tr>\n",
              "    <tr>\n",
              "      <th>1</th>\n",
              "      <td>gtld-servers.net</td>\n",
              "      <td>gtld-servers</td>\n",
              "      <td>##############################################...</td>\n",
              "      <td>0</td>\n",
              "      <td>((tf.Tensor(0.0, shape=(), dtype=float16), tf....</td>\n",
              "    </tr>\n",
              "    <tr>\n",
              "      <th>2</th>\n",
              "      <td>youtube.com</td>\n",
              "      <td>youtube</td>\n",
              "      <td>##############################################...</td>\n",
              "      <td>0</td>\n",
              "      <td>((tf.Tensor(0.0, shape=(), dtype=float16), tf....</td>\n",
              "    </tr>\n",
              "    <tr>\n",
              "      <th>3</th>\n",
              "      <td>facebook.com</td>\n",
              "      <td>facebook</td>\n",
              "      <td>##############################################...</td>\n",
              "      <td>0</td>\n",
              "      <td>((tf.Tensor(0.0, shape=(), dtype=float16), tf....</td>\n",
              "    </tr>\n",
              "    <tr>\n",
              "      <th>4</th>\n",
              "      <td>akamaiedge.net</td>\n",
              "      <td>akamaiedge</td>\n",
              "      <td>##############################################...</td>\n",
              "      <td>0</td>\n",
              "      <td>((tf.Tensor(0.0, shape=(), dtype=float16), tf....</td>\n",
              "    </tr>\n",
              "  </tbody>\n",
              "</table>\n",
              "</div>\n",
              "      <button class=\"colab-df-convert\" onclick=\"convertToInteractive('df-90e1c08c-1508-4b13-8255-5a2b3b50b692')\"\n",
              "              title=\"Convert this dataframe to an interactive table.\"\n",
              "              style=\"display:none;\">\n",
              "        \n",
              "  <svg xmlns=\"http://www.w3.org/2000/svg\" height=\"24px\"viewBox=\"0 0 24 24\"\n",
              "       width=\"24px\">\n",
              "    <path d=\"M0 0h24v24H0V0z\" fill=\"none\"/>\n",
              "    <path d=\"M18.56 5.44l.94 2.06.94-2.06 2.06-.94-2.06-.94-.94-2.06-.94 2.06-2.06.94zm-11 1L8.5 8.5l.94-2.06 2.06-.94-2.06-.94L8.5 2.5l-.94 2.06-2.06.94zm10 10l.94 2.06.94-2.06 2.06-.94-2.06-.94-.94-2.06-.94 2.06-2.06.94z\"/><path d=\"M17.41 7.96l-1.37-1.37c-.4-.4-.92-.59-1.43-.59-.52 0-1.04.2-1.43.59L10.3 9.45l-7.72 7.72c-.78.78-.78 2.05 0 2.83L4 21.41c.39.39.9.59 1.41.59.51 0 1.02-.2 1.41-.59l7.78-7.78 2.81-2.81c.8-.78.8-2.07 0-2.86zM5.41 20L4 18.59l7.72-7.72 1.47 1.35L5.41 20z\"/>\n",
              "  </svg>\n",
              "      </button>\n",
              "      \n",
              "  <style>\n",
              "    .colab-df-container {\n",
              "      display:flex;\n",
              "      flex-wrap:wrap;\n",
              "      gap: 12px;\n",
              "    }\n",
              "\n",
              "    .colab-df-convert {\n",
              "      background-color: #E8F0FE;\n",
              "      border: none;\n",
              "      border-radius: 50%;\n",
              "      cursor: pointer;\n",
              "      display: none;\n",
              "      fill: #1967D2;\n",
              "      height: 32px;\n",
              "      padding: 0 0 0 0;\n",
              "      width: 32px;\n",
              "    }\n",
              "\n",
              "    .colab-df-convert:hover {\n",
              "      background-color: #E2EBFA;\n",
              "      box-shadow: 0px 1px 2px rgba(60, 64, 67, 0.3), 0px 1px 3px 1px rgba(60, 64, 67, 0.15);\n",
              "      fill: #174EA6;\n",
              "    }\n",
              "\n",
              "    [theme=dark] .colab-df-convert {\n",
              "      background-color: #3B4455;\n",
              "      fill: #D2E3FC;\n",
              "    }\n",
              "\n",
              "    [theme=dark] .colab-df-convert:hover {\n",
              "      background-color: #434B5C;\n",
              "      box-shadow: 0px 1px 3px 1px rgba(0, 0, 0, 0.15);\n",
              "      filter: drop-shadow(0px 1px 2px rgba(0, 0, 0, 0.3));\n",
              "      fill: #FFFFFF;\n",
              "    }\n",
              "  </style>\n",
              "\n",
              "      <script>\n",
              "        const buttonEl =\n",
              "          document.querySelector('#df-90e1c08c-1508-4b13-8255-5a2b3b50b692 button.colab-df-convert');\n",
              "        buttonEl.style.display =\n",
              "          google.colab.kernel.accessAllowed ? 'block' : 'none';\n",
              "\n",
              "        async function convertToInteractive(key) {\n",
              "          const element = document.querySelector('#df-90e1c08c-1508-4b13-8255-5a2b3b50b692');\n",
              "          const dataTable =\n",
              "            await google.colab.kernel.invokeFunction('convertToInteractive',\n",
              "                                                     [key], {});\n",
              "          if (!dataTable) return;\n",
              "\n",
              "          const docLinkHtml = 'Like what you see? Visit the ' +\n",
              "            '<a target=\"_blank\" href=https://colab.research.google.com/notebooks/data_table.ipynb>data table notebook</a>'\n",
              "            + ' to learn more about interactive tables.';\n",
              "          element.innerHTML = '';\n",
              "          dataTable['output_type'] = 'display_data';\n",
              "          await google.colab.output.renderOutput(dataTable, element);\n",
              "          const docLink = document.createElement('div');\n",
              "          docLink.innerHTML = docLinkHtml;\n",
              "          element.appendChild(docLink);\n",
              "        }\n",
              "      </script>\n",
              "    </div>\n",
              "  </div>\n",
              "  "
            ]
          },
          "metadata": {},
          "execution_count": 8
        }
      ],
      "source": [
        "dom_tagged.head()"
      ]
    },
    {
      "cell_type": "code",
      "execution_count": 9,
      "metadata": {
        "id": "ZSnMCmCw2eKX"
      },
      "outputs": [],
      "source": [
        "#Assign variables train_X and train_Y for the model\n",
        "train_X = tf.stack(values=(dom_tagged['sld_one_hot']), axis=0)\n",
        "train_Y = tf.convert_to_tensor(dom_tagged[\"dangerous\"], dtype=tf.float16)"
      ]
    },
    {
      "cell_type": "code",
      "execution_count": 10,
      "metadata": {
        "id": "nv-w89d6dURX",
        "colab": {
          "base_uri": "https://localhost:8080/"
        },
        "outputId": "5ffd8eb6-134b-4a78-c411-a2458439bc84"
      },
      "outputs": [
        {
          "output_type": "stream",
          "name": "stdout",
          "text": [
            "Training data shape :  (574628, 63, 37) (574628,) (63, 37)\n"
          ]
        }
      ],
      "source": [
        "#Check structure of dataset\n",
        "print('Training data shape : ', train_X.shape, train_Y.shape, train_X[0].shape)"
      ]
    },
    {
      "cell_type": "code",
      "execution_count": 11,
      "metadata": {
        "id": "A2T6jMhQF0sN"
      },
      "outputs": [],
      "source": [
        "#https://www.anycodings.com/1questions/2398077/how-to-perform-sklearn-style-train-test-split-on-feature-and-label-tensors-using-built-in-tensorflow-methods\n",
        "#Function to create train, val and tests partitions with tensors.\n",
        "from typing import Tuple\n",
        "\n",
        "def split_train_test(features: tf.Tensor,\n",
        "                     labels: tf.Tensor,\n",
        "                     test_size: float,\n",
        "                     random_state: int = 1729) -> Tuple[tf.Tensor, tf.Tensor, tf.Tensor, tf.Tensor]:\n",
        "\n",
        "    # Generate random masks\n",
        "    random = tf.random.uniform(shape=(tf.shape(features)[0],), seed=random_state)\n",
        "    train_mask = random >= test_size\n",
        "    test_mask = random < test_size\n",
        "\n",
        "    # Gather values\n",
        "    train_features, train_labels = tf.boolean_mask(features, mask=train_mask), tf.boolean_mask(labels, mask=train_mask)\n",
        "    test_features, test_labels = tf.boolean_mask(features, mask=test_mask), tf.boolean_mask(labels, mask=test_mask)\n",
        "\n",
        "    return train_features, test_features, train_labels, test_labels"
      ]
    },
    {
      "cell_type": "code",
      "execution_count": 12,
      "metadata": {
        "id": "uhPFZpNiEr1r"
      },
      "outputs": [],
      "source": [
        "#Create training and test model partitions\n",
        "train_X, test_X, train_Y,  test_Y = split_train_test(train_X, train_Y, test_size=0.2, random_state=13)"
      ]
    },
    {
      "cell_type": "code",
      "execution_count": 13,
      "metadata": {
        "id": "bCH1FmDNw6Yf",
        "colab": {
          "base_uri": "https://localhost:8080/"
        },
        "outputId": "fbe5bb40-63fe-4726-bc72-d481d802ba0d"
      },
      "outputs": [
        {
          "output_type": "stream",
          "name": "stdout",
          "text": [
            "(459600, 63, 37) (115028, 63, 37) (459600,) (115028,)\n"
          ]
        }
      ],
      "source": [
        "#Check shape again\n",
        "print(train_X.shape, test_X.shape, train_Y.shape, test_Y.shape)"
      ]
    },
    {
      "cell_type": "code",
      "execution_count": 14,
      "metadata": {
        "id": "gFqEIh2MpBmg"
      },
      "outputs": [],
      "source": [
        "import keras\n",
        "from keras.models import Sequential,Model\n",
        "from keras import Input\n",
        "from keras.layers import Conv1D, MaxPooling1D, Dense, Dropout, Flatten"
      ]
    },
    {
      "cell_type": "code",
      "execution_count": 15,
      "metadata": {
        "id": "GMB0HHhJzYvH"
      },
      "outputs": [],
      "source": [
        "#Model3:\n",
        "model = Sequential()\n",
        "model.add(Conv1D(50, 3, activation='relu', input_shape=(63,37)))\n",
        "model.add(Conv1D(50, 4, activation='relu'))\n",
        "model.add(Conv1D(50, 5, activation='relu'))\n",
        "model.add(MaxPooling1D(2))\n",
        "model.add(Flatten())\n",
        "model.add(Dense(30, activation='relu'))\n",
        "model.add(Dense(20, activation='relu'))\n",
        "model.add(Dense(2, activation='softmax'))"
      ]
    },
    {
      "cell_type": "code",
      "execution_count": 16,
      "metadata": {
        "id": "rbIuDhb09noR",
        "colab": {
          "base_uri": "https://localhost:8080/"
        },
        "outputId": "99081aad-a04e-4e7d-e078-3cbf8bd6377c"
      },
      "outputs": [
        {
          "output_type": "stream",
          "name": "stdout",
          "text": [
            "Model: \"sequential\"\n",
            "_________________________________________________________________\n",
            " Layer (type)                Output Shape              Param #   \n",
            "=================================================================\n",
            " conv1d (Conv1D)             (None, 61, 50)            5600      \n",
            "                                                                 \n",
            " conv1d_1 (Conv1D)           (None, 58, 50)            10050     \n",
            "                                                                 \n",
            " conv1d_2 (Conv1D)           (None, 54, 50)            12550     \n",
            "                                                                 \n",
            " max_pooling1d (MaxPooling1D  (None, 27, 50)           0         \n",
            " )                                                               \n",
            "                                                                 \n",
            " flatten (Flatten)           (None, 1350)              0         \n",
            "                                                                 \n",
            " dense (Dense)               (None, 30)                40530     \n",
            "                                                                 \n",
            " dense_1 (Dense)             (None, 20)                620       \n",
            "                                                                 \n",
            " dense_2 (Dense)             (None, 2)                 42        \n",
            "                                                                 \n",
            "=================================================================\n",
            "Total params: 69,392\n",
            "Trainable params: 69,392\n",
            "Non-trainable params: 0\n",
            "_________________________________________________________________\n",
            "None\n"
          ]
        }
      ],
      "source": [
        "print(model.summary())"
      ]
    },
    {
      "cell_type": "code",
      "execution_count": 17,
      "metadata": {
        "id": "M9Q7rqRkhGw3"
      },
      "outputs": [],
      "source": [
        "#Compile CNN\n",
        "model.compile(loss='sparse_categorical_crossentropy', optimizer='adam', metrics=['accuracy'])"
      ]
    },
    {
      "cell_type": "code",
      "execution_count": 18,
      "metadata": {
        "id": "uIEaJPxxUJnR",
        "colab": {
          "base_uri": "https://localhost:8080/"
        },
        "outputId": "22262c52-8687-4b0f-ebfe-827536cc82b8"
      },
      "outputs": [
        {
          "output_type": "stream",
          "name": "stdout",
          "text": [
            "Epoch 1/10\n",
            "7182/7182 [==============================] - 46s 5ms/step - loss: 0.2791 - accuracy: 0.8776 - val_loss: 0.2473 - val_accuracy: 0.8916\n",
            "Epoch 2/10\n",
            "7182/7182 [==============================] - 37s 5ms/step - loss: 0.2399 - accuracy: 0.8969 - val_loss: 0.2333 - val_accuracy: 0.9006\n",
            "Epoch 3/10\n",
            "7182/7182 [==============================] - 36s 5ms/step - loss: 0.2258 - accuracy: 0.9046 - val_loss: 0.2279 - val_accuracy: 0.9034\n",
            "Epoch 4/10\n",
            "7182/7182 [==============================] - 36s 5ms/step - loss: 0.2164 - accuracy: 0.9090 - val_loss: 0.2257 - val_accuracy: 0.9045\n",
            "Epoch 5/10\n",
            "7182/7182 [==============================] - 35s 5ms/step - loss: 0.2096 - accuracy: 0.9123 - val_loss: 0.2224 - val_accuracy: 0.9048\n",
            "Epoch 6/10\n",
            "7182/7182 [==============================] - 36s 5ms/step - loss: 0.2035 - accuracy: 0.9154 - val_loss: 0.2230 - val_accuracy: 0.9056\n",
            "Epoch 7/10\n",
            "7182/7182 [==============================] - 36s 5ms/step - loss: 0.1983 - accuracy: 0.9181 - val_loss: 0.2197 - val_accuracy: 0.9077\n",
            "Epoch 8/10\n",
            "7182/7182 [==============================] - 38s 5ms/step - loss: 0.1939 - accuracy: 0.9201 - val_loss: 0.2314 - val_accuracy: 0.9020\n",
            "Epoch 9/10\n",
            "7182/7182 [==============================] - 36s 5ms/step - loss: 0.1899 - accuracy: 0.9221 - val_loss: 0.2229 - val_accuracy: 0.9068\n",
            "Epoch 10/10\n",
            "7182/7182 [==============================] - 35s 5ms/step - loss: 0.1860 - accuracy: 0.9237 - val_loss: 0.2242 - val_accuracy: 0.9071\n"
          ]
        }
      ],
      "source": [
        "#Train model\n",
        "history = model.fit(train_X, train_Y, validation_data=(test_X, test_Y), epochs=10, batch_size=64)"
      ]
    },
    {
      "cell_type": "markdown",
      "metadata": {
        "id": "6-6cm3i828oc"
      },
      "source": [
        "29s 4ms/step - loss: 0.2013 - accuracy: 0.9162 - val_loss: 0.2607 - val_accuracy: 0.8930"
      ]
    },
    {
      "cell_type": "code",
      "execution_count": 19,
      "metadata": {
        "id": "13KHvUy7rKlX",
        "colab": {
          "base_uri": "https://localhost:8080/",
          "height": 625
        },
        "outputId": "352e6f5c-f2e6-4c40-e255-7e3da569da11"
      },
      "outputs": [
        {
          "output_type": "display_data",
          "data": {
            "text/plain": [
              "<Figure size 432x288 with 1 Axes>"
            ],
            "image/png": "[encoded data removed]"
          },
          "metadata": {
            "needs_background": "light"
          }
        },
        {
          "output_type": "display_data",
          "data": {
            "text/plain": [
              "<Figure size 432x288 with 1 Axes>"
            ],
            "image/png": "[encoded data removed]"
          },
          "metadata": {
            "needs_background": "light"
          }
        },
        {
          "output_type": "stream",
          "name": "stdout",
          "text": [
            "3595/3595 [==============================] - 11s 3ms/step - loss: 0.2242 - accuracy: 0.9071\n",
            "Test loss: 0.22416211664676666\n",
            "Test accuracy: 0.9070748090744019\n"
          ]
        }
      ],
      "source": [
        "#Plot accuracy and validation loss of the model\n",
        "accuracy = history.history['accuracy']\n",
        "val_accuracy = history.history['accuracy']\n",
        "loss = history.history['loss']\n",
        "val_loss = history.history['val_loss']\n",
        "epochs = range(len(accuracy))\n",
        "plt.plot(epochs, accuracy, 'bo', label='Training accuracy')\n",
        "plt.plot(epochs, val_accuracy, 'b', label='Validation accuracy')\n",
        "plt.title('Training and validation accuracy')\n",
        "plt.xlabel('Epoch')\n",
        "plt.ylabel('Accuracy')\n",
        "plt.ylim([0.5, 1])\n",
        "plt.legend(loc='lower right')\n",
        "plt.figure()\n",
        "\n",
        "plt.plot(epochs, loss, 'bo', label='Training loss')\n",
        "plt.plot(epochs, val_loss, 'b', label='Validation loss')\n",
        "plt.title('Training and validation loss')\n",
        "plt.xlabel('Epoch')\n",
        "plt.ylabel('Loss')\n",
        "plt.legend()\n",
        "plt.show()\n",
        "\n",
        "test_eval = model.evaluate(test_X, test_Y, verbose=1)\n",
        "print('Test loss:', test_eval[0])\n",
        "print('Test accuracy:', test_eval[1])"
      ]
    },
    {
      "cell_type": "code",
      "execution_count": 20,
      "metadata": {
        "id": "JHONx03FHjDe",
        "colab": {
          "base_uri": "https://localhost:8080/"
        },
        "outputId": "5a187915-d121-4efb-a99c-030be7883866"
      },
      "outputs": [
        {
          "output_type": "stream",
          "name": "stderr",
          "text": [
            "WARNING:absl:Found untraced functions such as _jit_compiled_convolution_op, _jit_compiled_convolution_op, _jit_compiled_convolution_op while saving (showing 3 of 3). These functions will not be directly callable after loading.\n"
          ]
        }
      ],
      "source": [
        "#Save model\n",
        "model.save('model1')"
      ]
    },
    {
      "cell_type": "code",
      "execution_count": 21,
      "metadata": {
        "id": "NMV--tnLfYKw",
        "colab": {
          "base_uri": "https://localhost:8080/"
        },
        "outputId": "be54bf3d-c38c-42ba-af04-4afd6b06bdc3"
      },
      "outputs": [
        {
          "output_type": "stream",
          "name": "stdout",
          "text": [
            "--2022-12-12 20:02:09--  https://whoisds.com//whois-database/newly-registered-domains/MjAyMi0xMi0xMS56aXA=/nrd\n",
            "Resolving whoisds.com (whoisds.com)... 103.242.119.24\n",
            "Connecting to whoisds.com (whoisds.com)|103.242.119.24|:443... connected.\n",
            "HTTP request sent, awaiting response... 200 OK\n",
            "Length: 642280 (627K) [application/octet-stream]\n",
            "Saving to: ‘2022-12-11.zip’\n",
            "\n",
            "2022-12-11.zip      100%[===================>] 627.23K   544KB/s    in 1.2s    \n",
            "\n",
            "2022-12-12 20:02:11 (544 KB/s) - ‘2022-12-11.zip’ saved [642280/642280]\n",
            "\n"
          ]
        },
        {
          "output_type": "execute_result",
          "data": {
            "text/plain": []
          },
          "metadata": {},
          "execution_count": 21
        }
      ],
      "source": [
        "#Shell comand to get newly registered domains and safe them on a zip with yesterday date\n",
        "%%shell\n",
        "datedl=$(date --date '1 days ago' '+%Y-%m-%d')\n",
        "zip=\"$datedl.zip\"\n",
        "b64=$(echo $zip | base64)\n",
        "\n",
        "ok=$(expr $b64 : \"\\(.*\\).$\")\n",
        "\n",
        "urlbase=\"https://whoisds.com//whois-database/newly-registered-domains/\"\n",
        "urlend=\"=/nrd\"\n",
        "\n",
        "allurl=\"$urlbase$ok$urlend\"\n",
        "\n",
        "wget -O $zip $allurl"
      ]
    },
    {
      "cell_type": "code",
      "execution_count": 22,
      "metadata": {
        "id": "Fk0bMks2X64c"
      },
      "outputs": [],
      "source": [
        "#Function to split the domain, into tld, sld and third. Also preprocess dataset\n",
        "#Input: dataframe\n",
        "#Output: dataframe (clean)\n",
        "def split_clean_domain(data):\n",
        "  #Add '.' if there's only one '.'. To avoid errors at spliting sld.\n",
        "  data['dom_name_aux'] = data.dom_name.apply(lambda x: '.' + x if len(re.findall('[.]', x)) <= 1 else x)\n",
        "  #Split domain into tld, sld and thirdld\n",
        "  data[['sld', 'tld']] = data['dom_name_aux'].str.rsplit('.', 1, expand=True)\n",
        "  data[['thirdld', 'sld']] = data['sld'].str.split('.', 1, expand=True)\n",
        "  data.loc[data['sld'].isnull(), 'aux'] = data['thirdld']\n",
        "  data.loc[data['sld'].isnull(), 'thirdld'] = data['sld']\n",
        "  data.loc[data['sld'].isnull(), 'sld'] = data['aux']\n",
        "  data['sld'] = data['sld'].str.lower()\n",
        "  #Clean sld for the one_hot_encoding\n",
        "  data['sld_clean'] = data['sld'].str.replace(r'[^-0-9a-zA-Z]', '#', regex=True)\n",
        "  data['sld_clean'] = data['sld_clean'].str.pad(63, side='left', fillchar='#')\n",
        "  #Delete not needed columns\n",
        "  data.pop('dom_name_aux')\n",
        "  data.pop('aux')\n",
        "  data.pop('thirdld')\n",
        "  data.pop('tld')\n",
        "  #Delete rows with sld not valid\n",
        "  data = data[data['sld_clean'].str.len() <= 63]\n",
        "  return"
      ]
    },
    {
      "cell_type": "code",
      "execution_count": 23,
      "metadata": {
        "id": "mTcROBomhax2",
        "colab": {
          "base_uri": "https://localhost:8080/",
          "height": 224
        },
        "outputId": "cba2b3a2-1798-4d0a-fb22-46ff5cee69c6"
      },
      "outputs": [
        {
          "output_type": "stream",
          "name": "stdout",
          "text": [
            "2022-12-11.zip\n"
          ]
        },
        {
          "output_type": "execute_result",
          "data": {
            "text/plain": [
              "         dom_name         sld  \\\n",
              "0    1688tbee.top    1688tbee   \n",
              "1       470kj.fun       470kj   \n",
              "2   acukress.shop    acukress   \n",
              "3   alonkgic.shop    alonkgic   \n",
              "4  app-authgo.com  app-authgo   \n",
              "\n",
              "                                           sld_clean  \n",
              "0  ##############################################...  \n",
              "1  ##############################################...  \n",
              "2  ##############################################...  \n",
              "3  ##############################################...  \n",
              "4  ##############################################...  "
            ],
            "text/html": [
              "\n",
              "  <div id=\"df-5b7453b0-ba98-424b-8613-e951719ceade\">\n",
              "    <div class=\"colab-df-container\">\n",
              "      <div>\n",
              "<style scoped>\n",
              "    .dataframe tbody tr th:only-of-type {\n",
              "        vertical-align: middle;\n",
              "    }\n",
              "\n",
              "    .dataframe tbody tr th {\n",
              "        vertical-align: top;\n",
              "    }\n",
              "\n",
              "    .dataframe thead th {\n",
              "        text-align: right;\n",
              "    }\n",
              "</style>\n",
              "<table border=\"1\" class=\"dataframe\">\n",
              "  <thead>\n",
              "    <tr style=\"text-align: right;\">\n",
              "      <th></th>\n",
              "      <th>dom_name</th>\n",
              "      <th>sld</th>\n",
              "      <th>sld_clean</th>\n",
              "    </tr>\n",
              "  </thead>\n",
              "  <tbody>\n",
              "    <tr>\n",
              "      <th>0</th>\n",
              "      <td>1688tbee.top</td>\n",
              "      <td>1688tbee</td>\n",
              "      <td>##############################################...</td>\n",
              "    </tr>\n",
              "    <tr>\n",
              "      <th>1</th>\n",
              "      <td>470kj.fun</td>\n",
              "      <td>470kj</td>\n",
              "      <td>##############################################...</td>\n",
              "    </tr>\n",
              "    <tr>\n",
              "      <th>2</th>\n",
              "      <td>acukress.shop</td>\n",
              "      <td>acukress</td>\n",
              "      <td>##############################################...</td>\n",
              "    </tr>\n",
              "    <tr>\n",
              "      <th>3</th>\n",
              "      <td>alonkgic.shop</td>\n",
              "      <td>alonkgic</td>\n",
              "      <td>##############################################...</td>\n",
              "    </tr>\n",
              "    <tr>\n",
              "      <th>4</th>\n",
              "      <td>app-authgo.com</td>\n",
              "      <td>app-authgo</td>\n",
              "      <td>##############################################...</td>\n",
              "    </tr>\n",
              "  </tbody>\n",
              "</table>\n",
              "</div>\n",
              "      <button class=\"colab-df-convert\" onclick=\"convertToInteractive('df-5b7453b0-ba98-424b-8613-e951719ceade')\"\n",
              "              title=\"Convert this dataframe to an interactive table.\"\n",
              "              style=\"display:none;\">\n",
              "        \n",
              "  <svg xmlns=\"http://www.w3.org/2000/svg\" height=\"24px\"viewBox=\"0 0 24 24\"\n",
              "       width=\"24px\">\n",
              "    <path d=\"M0 0h24v24H0V0z\" fill=\"none\"/>\n",
              "    <path d=\"M18.56 5.44l.94 2.06.94-2.06 2.06-.94-2.06-.94-.94-2.06-.94 2.06-2.06.94zm-11 1L8.5 8.5l.94-2.06 2.06-.94-2.06-.94L8.5 2.5l-.94 2.06-2.06.94zm10 10l.94 2.06.94-2.06 2.06-.94-2.06-.94-.94-2.06-.94 2.06-2.06.94z\"/><path d=\"M17.41 7.96l-1.37-1.37c-.4-.4-.92-.59-1.43-.59-.52 0-1.04.2-1.43.59L10.3 9.45l-7.72 7.72c-.78.78-.78 2.05 0 2.83L4 21.41c.39.39.9.59 1.41.59.51 0 1.02-.2 1.41-.59l7.78-7.78 2.81-2.81c.8-.78.8-2.07 0-2.86zM5.41 20L4 18.59l7.72-7.72 1.47 1.35L5.41 20z\"/>\n",
              "  </svg>\n",
              "      </button>\n",
              "      \n",
              "  <style>\n",
              "    .colab-df-container {\n",
              "      display:flex;\n",
              "      flex-wrap:wrap;\n",
              "      gap: 12px;\n",
              "    }\n",
              "\n",
              "    .colab-df-convert {\n",
              "      background-color: #E8F0FE;\n",
              "      border: none;\n",
              "      border-radius: 50%;\n",
              "      cursor: pointer;\n",
              "      display: none;\n",
              "      fill: #1967D2;\n",
              "      height: 32px;\n",
              "      padding: 0 0 0 0;\n",
              "      width: 32px;\n",
              "    }\n",
              "\n",
              "    .colab-df-convert:hover {\n",
              "      background-color: #E2EBFA;\n",
              "      box-shadow: 0px 1px 2px rgba(60, 64, 67, 0.3), 0px 1px 3px 1px rgba(60, 64, 67, 0.15);\n",
              "      fill: #174EA6;\n",
              "    }\n",
              "\n",
              "    [theme=dark] .colab-df-convert {\n",
              "      background-color: #3B4455;\n",
              "      fill: #D2E3FC;\n",
              "    }\n",
              "\n",
              "    [theme=dark] .colab-df-convert:hover {\n",
              "      background-color: #434B5C;\n",
              "      box-shadow: 0px 1px 3px 1px rgba(0, 0, 0, 0.15);\n",
              "      filter: drop-shadow(0px 1px 2px rgba(0, 0, 0, 0.3));\n",
              "      fill: #FFFFFF;\n",
              "    }\n",
              "  </style>\n",
              "\n",
              "      <script>\n",
              "        const buttonEl =\n",
              "          document.querySelector('#df-5b7453b0-ba98-424b-8613-e951719ceade button.colab-df-convert');\n",
              "        buttonEl.style.display =\n",
              "          google.colab.kernel.accessAllowed ? 'block' : 'none';\n",
              "\n",
              "        async function convertToInteractive(key) {\n",
              "          const element = document.querySelector('#df-5b7453b0-ba98-424b-8613-e951719ceade');\n",
              "          const dataTable =\n",
              "            await google.colab.kernel.invokeFunction('convertToInteractive',\n",
              "                                                     [key], {});\n",
              "          if (!dataTable) return;\n",
              "\n",
              "          const docLinkHtml = 'Like what you see? Visit the ' +\n",
              "            '<a target=\"_blank\" href=https://colab.research.google.com/notebooks/data_table.ipynb>data table notebook</a>'\n",
              "            + ' to learn more about interactive tables.';\n",
              "          element.innerHTML = '';\n",
              "          dataTable['output_type'] = 'display_data';\n",
              "          await google.colab.output.renderOutput(dataTable, element);\n",
              "          const docLink = document.createElement('div');\n",
              "          docLink.innerHTML = docLinkHtml;\n",
              "          element.appendChild(docLink);\n",
              "        }\n",
              "      </script>\n",
              "    </div>\n",
              "  </div>\n",
              "  "
            ]
          },
          "metadata": {},
          "execution_count": 23
        }
      ],
      "source": [
        "#Read newly registered domains\n",
        "from datetime import datetime, timedelta\n",
        "yesterday = datetime.now() - timedelta(1)\n",
        "zip_name = datetime.strftime(yesterday, '%Y-%m-%d') + '.zip'\n",
        "print(zip_name)\n",
        "#Read recent_domains\n",
        "dom_recent = pd.read_csv(zip_name, sep=\" \", header=None, nrows=50000)\n",
        "dom_recent.columns = [\"dom_name\"]\n",
        "#Clean recent domains\n",
        "split_clean_domain(dom_recent)\n",
        "dom_recent = dom_recent[dom_recent['sld_clean'].str.len() <= 63] #delete slds > 63\n",
        "dom_recent.head()"
      ]
    },
    {
      "cell_type": "code",
      "execution_count": 24,
      "metadata": {
        "id": "AeNGXjboiVXG"
      },
      "outputs": [],
      "source": [
        "#One hot encode for prediction recent domains\n",
        "onehotencode_column(dom_recent)\n",
        "pred_X = tf.stack(values=(dom_recent['sld_one_hot']), axis=0)"
      ]
    },
    {
      "cell_type": "code",
      "execution_count": 25,
      "metadata": {
        "id": "KZhcb8iLiENa",
        "colab": {
          "base_uri": "https://localhost:8080/"
        },
        "outputId": "4725c804-a079-4195-af90-82cd7c5ebe13"
      },
      "outputs": [
        {
          "output_type": "stream",
          "name": "stdout",
          "text": [
            "1563/1563 [==============================] - 3s 2ms/step\n"
          ]
        }
      ],
      "source": [
        "#Prediction\n",
        "pred = model.predict(pred_X, batch_size=32)\n",
        "#Assign prediction to the dataframe\n",
        "dom_recent['dangerous(%)'] = pred[:,1]*100"
      ]
    },
    {
      "cell_type": "code",
      "execution_count": 26,
      "metadata": {
        "id": "3030o5oflFO6",
        "colab": {
          "base_uri": "https://localhost:8080/",
          "height": 206
        },
        "outputId": "355419d0-ce29-4bad-b3e6-fd25a6ffd8a0"
      },
      "outputs": [
        {
          "output_type": "execute_result",
          "data": {
            "text/plain": [
              "         dom_name         sld  \\\n",
              "0    1688tbee.top    1688tbee   \n",
              "1       470kj.fun       470kj   \n",
              "2   acukress.shop    acukress   \n",
              "3   alonkgic.shop    alonkgic   \n",
              "4  app-authgo.com  app-authgo   \n",
              "\n",
              "                                           sld_clean  \\\n",
              "0  ##############################################...   \n",
              "1  ##############################################...   \n",
              "2  ##############################################...   \n",
              "3  ##############################################...   \n",
              "4  ##############################################...   \n",
              "\n",
              "                                         sld_one_hot  dangerous(%)  \n",
              "0  ((tf.Tensor(0.0, shape=(), dtype=float16), tf....     91.882820  \n",
              "1  ((tf.Tensor(0.0, shape=(), dtype=float16), tf....     97.203064  \n",
              "2  ((tf.Tensor(0.0, shape=(), dtype=float16), tf....     32.701820  \n",
              "3  ((tf.Tensor(0.0, shape=(), dtype=float16), tf....     37.583538  \n",
              "4  ((tf.Tensor(0.0, shape=(), dtype=float16), tf....     75.491264  "
            ],
            "text/html": [
              "\n",
              "  <div id=\"df-c62873cb-62e3-40e9-b41f-2974404dfc7f\">\n",
              "    <div class=\"colab-df-container\">\n",
              "      <div>\n",
              "<style scoped>\n",
              "    .dataframe tbody tr th:only-of-type {\n",
              "        vertical-align: middle;\n",
              "    }\n",
              "\n",
              "    .dataframe tbody tr th {\n",
              "        vertical-align: top;\n",
              "    }\n",
              "\n",
              "    .dataframe thead th {\n",
              "        text-align: right;\n",
              "    }\n",
              "</style>\n",
              "<table border=\"1\" class=\"dataframe\">\n",
              "  <thead>\n",
              "    <tr style=\"text-align: right;\">\n",
              "      <th></th>\n",
              "      <th>dom_name</th>\n",
              "      <th>sld</th>\n",
              "      <th>sld_clean</th>\n",
              "      <th>sld_one_hot</th>\n",
              "      <th>dangerous(%)</th>\n",
              "    </tr>\n",
              "  </thead>\n",
              "  <tbody>\n",
              "    <tr>\n",
              "      <th>0</th>\n",
              "      <td>1688tbee.top</td>\n",
              "      <td>1688tbee</td>\n",
              "      <td>##############################################...</td>\n",
              "      <td>((tf.Tensor(0.0, shape=(), dtype=float16), tf....</td>\n",
              "      <td>91.882820</td>\n",
              "    </tr>\n",
              "    <tr>\n",
              "      <th>1</th>\n",
              "      <td>470kj.fun</td>\n",
              "      <td>470kj</td>\n",
              "      <td>##############################################...</td>\n",
              "      <td>((tf.Tensor(0.0, shape=(), dtype=float16), tf....</td>\n",
              "      <td>97.203064</td>\n",
              "    </tr>\n",
              "    <tr>\n",
              "      <th>2</th>\n",
              "      <td>acukress.shop</td>\n",
              "      <td>acukress</td>\n",
              "      <td>##############################################...</td>\n",
              "      <td>((tf.Tensor(0.0, shape=(), dtype=float16), tf....</td>\n",
              "      <td>32.701820</td>\n",
              "    </tr>\n",
              "    <tr>\n",
              "      <th>3</th>\n",
              "      <td>alonkgic.shop</td>\n",
              "      <td>alonkgic</td>\n",
              "      <td>##############################################...</td>\n",
              "      <td>((tf.Tensor(0.0, shape=(), dtype=float16), tf....</td>\n",
              "      <td>37.583538</td>\n",
              "    </tr>\n",
              "    <tr>\n",
              "      <th>4</th>\n",
              "      <td>app-authgo.com</td>\n",
              "      <td>app-authgo</td>\n",
              "      <td>##############################################...</td>\n",
              "      <td>((tf.Tensor(0.0, shape=(), dtype=float16), tf....</td>\n",
              "      <td>75.491264</td>\n",
              "    </tr>\n",
              "  </tbody>\n",
              "</table>\n",
              "</div>\n",
              "      <button class=\"colab-df-convert\" onclick=\"convertToInteractive('df-c62873cb-62e3-40e9-b41f-2974404dfc7f')\"\n",
              "              title=\"Convert this dataframe to an interactive table.\"\n",
              "              style=\"display:none;\">\n",
              "        \n",
              "  <svg xmlns=\"http://www.w3.org/2000/svg\" height=\"24px\"viewBox=\"0 0 24 24\"\n",
              "       width=\"24px\">\n",
              "    <path d=\"M0 0h24v24H0V0z\" fill=\"none\"/>\n",
              "    <path d=\"M18.56 5.44l.94 2.06.94-2.06 2.06-.94-2.06-.94-.94-2.06-.94 2.06-2.06.94zm-11 1L8.5 8.5l.94-2.06 2.06-.94-2.06-.94L8.5 2.5l-.94 2.06-2.06.94zm10 10l.94 2.06.94-2.06 2.06-.94-2.06-.94-.94-2.06-.94 2.06-2.06.94z\"/><path d=\"M17.41 7.96l-1.37-1.37c-.4-.4-.92-.59-1.43-.59-.52 0-1.04.2-1.43.59L10.3 9.45l-7.72 7.72c-.78.78-.78 2.05 0 2.83L4 21.41c.39.39.9.59 1.41.59.51 0 1.02-.2 1.41-.59l7.78-7.78 2.81-2.81c.8-.78.8-2.07 0-2.86zM5.41 20L4 18.59l7.72-7.72 1.47 1.35L5.41 20z\"/>\n",
              "  </svg>\n",
              "      </button>\n",
              "      \n",
              "  <style>\n",
              "    .colab-df-container {\n",
              "      display:flex;\n",
              "      flex-wrap:wrap;\n",
              "      gap: 12px;\n",
              "    }\n",
              "\n",
              "    .colab-df-convert {\n",
              "      background-color: #E8F0FE;\n",
              "      border: none;\n",
              "      border-radius: 50%;\n",
              "      cursor: pointer;\n",
              "      display: none;\n",
              "      fill: #1967D2;\n",
              "      height: 32px;\n",
              "      padding: 0 0 0 0;\n",
              "      width: 32px;\n",
              "    }\n",
              "\n",
              "    .colab-df-convert:hover {\n",
              "      background-color: #E2EBFA;\n",
              "      box-shadow: 0px 1px 2px rgba(60, 64, 67, 0.3), 0px 1px 3px 1px rgba(60, 64, 67, 0.15);\n",
              "      fill: #174EA6;\n",
              "    }\n",
              "\n",
              "    [theme=dark] .colab-df-convert {\n",
              "      background-color: #3B4455;\n",
              "      fill: #D2E3FC;\n",
              "    }\n",
              "\n",
              "    [theme=dark] .colab-df-convert:hover {\n",
              "      background-color: #434B5C;\n",
              "      box-shadow: 0px 1px 3px 1px rgba(0, 0, 0, 0.15);\n",
              "      filter: drop-shadow(0px 1px 2px rgba(0, 0, 0, 0.3));\n",
              "      fill: #FFFFFF;\n",
              "    }\n",
              "  </style>\n",
              "\n",
              "      <script>\n",
              "        const buttonEl =\n",
              "          document.querySelector('#df-c62873cb-62e3-40e9-b41f-2974404dfc7f button.colab-df-convert');\n",
              "        buttonEl.style.display =\n",
              "          google.colab.kernel.accessAllowed ? 'block' : 'none';\n",
              "\n",
              "        async function convertToInteractive(key) {\n",
              "          const element = document.querySelector('#df-c62873cb-62e3-40e9-b41f-2974404dfc7f');\n",
              "          const dataTable =\n",
              "            await google.colab.kernel.invokeFunction('convertToInteractive',\n",
              "                                                     [key], {});\n",
              "          if (!dataTable) return;\n",
              "\n",
              "          const docLinkHtml = 'Like what you see? Visit the ' +\n",
              "            '<a target=\"_blank\" href=https://colab.research.google.com/notebooks/data_table.ipynb>data table notebook</a>'\n",
              "            + ' to learn more about interactive tables.';\n",
              "          element.innerHTML = '';\n",
              "          dataTable['output_type'] = 'display_data';\n",
              "          await google.colab.output.renderOutput(dataTable, element);\n",
              "          const docLink = document.createElement('div');\n",
              "          docLink.innerHTML = docLinkHtml;\n",
              "          element.appendChild(docLink);\n",
              "        }\n",
              "      </script>\n",
              "    </div>\n",
              "  </div>\n",
              "  "
            ]
          },
          "metadata": {},
          "execution_count": 26
        }
      ],
      "source": [
        "dom_recent.head()"
      ]
    },
    {
      "cell_type": "code",
      "execution_count": 27,
      "metadata": {
        "id": "Lm8vW03FsXHo"
      },
      "outputs": [],
      "source": [
        "#Save as csv the predictions of the most recent domains registered.\n",
        "dom_recent[['dom_name', 'sld', 'dangerous(%)']].to_csv(\"recent_domains_prediction.csv\", index=False)"
      ]
    },
    {
      "cell_type": "code",
      "execution_count": 28,
      "metadata": {
        "id": "W_7ILuqO-0sa"
      },
      "outputs": [],
      "source": [
        "#Function to predict the % for a list of domains to be dangerous.\n",
        "#Input: domains: list of domains, model: trained model\n",
        "#Output: dataframe with 3 columns: dom_name, sld, % dangerous (dangerous(%))\n",
        "def domain_prediction(domains, model):\n",
        "  df = pd.DataFrame(data=domains, columns=['dom_name'])\n",
        "  split_clean_domain(df)\n",
        "  onehotencode_column(df)\n",
        "  pred = model.predict(tf.stack(values=(df['sld_one_hot']), axis=0), batch_size=32)\n",
        "  df.pop('sld_clean')\n",
        "  df.pop('sld_one_hot')\n",
        "  df['dangerous(%)'] = pred[:,1]*100\n",
        "  return df"
      ]
    },
    {
      "cell_type": "code",
      "execution_count": 29,
      "metadata": {
        "colab": {
          "base_uri": "https://localhost:8080/",
          "height": 474
        },
        "id": "dH3Ck6kvsuU4",
        "outputId": "0c95ea9f-020b-4038-e6e5-d3e0b9a72695"
      },
      "outputs": [
        {
          "output_type": "stream",
          "name": "stdout",
          "text": [
            "1/1 [==============================] - 0s 67ms/step\n"
          ]
        },
        {
          "output_type": "execute_result",
          "data": {
            "text/plain": [
              "                      dom_name                     sld  dangerous(%)\n",
              "0                   google.com                  google      0.500898\n",
              "1                   go0gle.com                  go0gle     11.552709\n",
              "2         https://www.uoc.edu/                     uoc      0.014621\n",
              "3                  netflix.com                 netflix      4.076414\n",
              "4               primevideo.com              primevideo      0.812008\n",
              "5           adams.wada-ama.org                wada-ama      2.025529\n",
              "6           connect.garmin.com                  garmin      2.372356\n",
              "7             web.whatsapp.com                whatsapp      2.123015\n",
              "8                     1688.com                    1688      9.596419\n",
              "9               naohvspwc.info               naohvspwc     99.107185\n",
              "10   vboypro16.firebaseapp.com             firebaseapp      0.785295\n",
              "11  vote-academymoderators.com  vote-academymoderators     23.740219\n",
              "12          web-online-sup.com          web-online-sup     75.837906"
            ],
            "text/html": [
              "\n",
              "  <div id=\"df-77870a15-29d8-4c2e-95fd-e81d04488dd6\">\n",
              "    <div class=\"colab-df-container\">\n",
              "      <div>\n",
              "<style scoped>\n",
              "    .dataframe tbody tr th:only-of-type {\n",
              "        vertical-align: middle;\n",
              "    }\n",
              "\n",
              "    .dataframe tbody tr th {\n",
              "        vertical-align: top;\n",
              "    }\n",
              "\n",
              "    .dataframe thead th {\n",
              "        text-align: right;\n",
              "    }\n",
              "</style>\n",
              "<table border=\"1\" class=\"dataframe\">\n",
              "  <thead>\n",
              "    <tr style=\"text-align: right;\">\n",
              "      <th></th>\n",
              "      <th>dom_name</th>\n",
              "      <th>sld</th>\n",
              "      <th>dangerous(%)</th>\n",
              "    </tr>\n",
              "  </thead>\n",
              "  <tbody>\n",
              "    <tr>\n",
              "      <th>0</th>\n",
              "      <td>google.com</td>\n",
              "      <td>google</td>\n",
              "      <td>0.500898</td>\n",
              "    </tr>\n",
              "    <tr>\n",
              "      <th>1</th>\n",
              "      <td>go0gle.com</td>\n",
              "      <td>go0gle</td>\n",
              "      <td>11.552709</td>\n",
              "    </tr>\n",
              "    <tr>\n",
              "      <th>2</th>\n",
              "      <td>https://www.uoc.edu/</td>\n",
              "      <td>uoc</td>\n",
              "      <td>0.014621</td>\n",
              "    </tr>\n",
              "    <tr>\n",
              "      <th>3</th>\n",
              "      <td>netflix.com</td>\n",
              "      <td>netflix</td>\n",
              "      <td>4.076414</td>\n",
              "    </tr>\n",
              "    <tr>\n",
              "      <th>4</th>\n",
              "      <td>primevideo.com</td>\n",
              "      <td>primevideo</td>\n",
              "      <td>0.812008</td>\n",
              "    </tr>\n",
              "    <tr>\n",
              "      <th>5</th>\n",
              "      <td>adams.wada-ama.org</td>\n",
              "      <td>wada-ama</td>\n",
              "      <td>2.025529</td>\n",
              "    </tr>\n",
              "    <tr>\n",
              "      <th>6</th>\n",
              "      <td>connect.garmin.com</td>\n",
              "      <td>garmin</td>\n",
              "      <td>2.372356</td>\n",
              "    </tr>\n",
              "    <tr>\n",
              "      <th>7</th>\n",
              "      <td>web.whatsapp.com</td>\n",
              "      <td>whatsapp</td>\n",
              "      <td>2.123015</td>\n",
              "    </tr>\n",
              "    <tr>\n",
              "      <th>8</th>\n",
              "      <td>1688.com</td>\n",
              "      <td>1688</td>\n",
              "      <td>9.596419</td>\n",
              "    </tr>\n",
              "    <tr>\n",
              "      <th>9</th>\n",
              "      <td>naohvspwc.info</td>\n",
              "      <td>naohvspwc</td>\n",
              "      <td>99.107185</td>\n",
              "    </tr>\n",
              "    <tr>\n",
              "      <th>10</th>\n",
              "      <td>vboypro16.firebaseapp.com</td>\n",
              "      <td>firebaseapp</td>\n",
              "      <td>0.785295</td>\n",
              "    </tr>\n",
              "    <tr>\n",
              "      <th>11</th>\n",
              "      <td>vote-academymoderators.com</td>\n",
              "      <td>vote-academymoderators</td>\n",
              "      <td>23.740219</td>\n",
              "    </tr>\n",
              "    <tr>\n",
              "      <th>12</th>\n",
              "      <td>web-online-sup.com</td>\n",
              "      <td>web-online-sup</td>\n",
              "      <td>75.837906</td>\n",
              "    </tr>\n",
              "  </tbody>\n",
              "</table>\n",
              "</div>\n",
              "      <button class=\"colab-df-convert\" onclick=\"convertToInteractive('df-77870a15-29d8-4c2e-95fd-e81d04488dd6')\"\n",
              "              title=\"Convert this dataframe to an interactive table.\"\n",
              "              style=\"display:none;\">\n",
              "        \n",
              "  <svg xmlns=\"http://www.w3.org/2000/svg\" height=\"24px\"viewBox=\"0 0 24 24\"\n",
              "       width=\"24px\">\n",
              "    <path d=\"M0 0h24v24H0V0z\" fill=\"none\"/>\n",
              "    <path d=\"M18.56 5.44l.94 2.06.94-2.06 2.06-.94-2.06-.94-.94-2.06-.94 2.06-2.06.94zm-11 1L8.5 8.5l.94-2.06 2.06-.94-2.06-.94L8.5 2.5l-.94 2.06-2.06.94zm10 10l.94 2.06.94-2.06 2.06-.94-2.06-.94-.94-2.06-.94 2.06-2.06.94z\"/><path d=\"M17.41 7.96l-1.37-1.37c-.4-.4-.92-.59-1.43-.59-.52 0-1.04.2-1.43.59L10.3 9.45l-7.72 7.72c-.78.78-.78 2.05 0 2.83L4 21.41c.39.39.9.59 1.41.59.51 0 1.02-.2 1.41-.59l7.78-7.78 2.81-2.81c.8-.78.8-2.07 0-2.86zM5.41 20L4 18.59l7.72-7.72 1.47 1.35L5.41 20z\"/>\n",
              "  </svg>\n",
              "      </button>\n",
              "      \n",
              "  <style>\n",
              "    .colab-df-container {\n",
              "      display:flex;\n",
              "      flex-wrap:wrap;\n",
              "      gap: 12px;\n",
              "    }\n",
              "\n",
              "    .colab-df-convert {\n",
              "      background-color: #E8F0FE;\n",
              "      border: none;\n",
              "      border-radius: 50%;\n",
              "      cursor: pointer;\n",
              "      display: none;\n",
              "      fill: #1967D2;\n",
              "      height: 32px;\n",
              "      padding: 0 0 0 0;\n",
              "      width: 32px;\n",
              "    }\n",
              "\n",
              "    .colab-df-convert:hover {\n",
              "      background-color: #E2EBFA;\n",
              "      box-shadow: 0px 1px 2px rgba(60, 64, 67, 0.3), 0px 1px 3px 1px rgba(60, 64, 67, 0.15);\n",
              "      fill: #174EA6;\n",
              "    }\n",
              "\n",
              "    [theme=dark] .colab-df-convert {\n",
              "      background-color: #3B4455;\n",
              "      fill: #D2E3FC;\n",
              "    }\n",
              "\n",
              "    [theme=dark] .colab-df-convert:hover {\n",
              "      background-color: #434B5C;\n",
              "      box-shadow: 0px 1px 3px 1px rgba(0, 0, 0, 0.15);\n",
              "      filter: drop-shadow(0px 1px 2px rgba(0, 0, 0, 0.3));\n",
              "      fill: #FFFFFF;\n",
              "    }\n",
              "  </style>\n",
              "\n",
              "      <script>\n",
              "        const buttonEl =\n",
              "          document.querySelector('#df-77870a15-29d8-4c2e-95fd-e81d04488dd6 button.colab-df-convert');\n",
              "        buttonEl.style.display =\n",
              "          google.colab.kernel.accessAllowed ? 'block' : 'none';\n",
              "\n",
              "        async function convertToInteractive(key) {\n",
              "          const element = document.querySelector('#df-77870a15-29d8-4c2e-95fd-e81d04488dd6');\n",
              "          const dataTable =\n",
              "            await google.colab.kernel.invokeFunction('convertToInteractive',\n",
              "                                                     [key], {});\n",
              "          if (!dataTable) return;\n",
              "\n",
              "          const docLinkHtml = 'Like what you see? Visit the ' +\n",
              "            '<a target=\"_blank\" href=https://colab.research.google.com/notebooks/data_table.ipynb>data table notebook</a>'\n",
              "            + ' to learn more about interactive tables.';\n",
              "          element.innerHTML = '';\n",
              "          dataTable['output_type'] = 'display_data';\n",
              "          await google.colab.output.renderOutput(dataTable, element);\n",
              "          const docLink = document.createElement('div');\n",
              "          docLink.innerHTML = docLinkHtml;\n",
              "          element.appendChild(docLink);\n",
              "        }\n",
              "      </script>\n",
              "    </div>\n",
              "  </div>\n",
              "  "
            ]
          },
          "metadata": {},
          "execution_count": 29
        }
      ],
      "source": [
        "#Personalized prediction: Assign a domain name or array of domains to dom_pred\n",
        "dom_pred = [\"google.com\", \"go0gle.com\", \"https://www.uoc.edu/\", \"netflix.com\", \"primevideo.com\", \"adams.wada-ama.org\", \"connect.garmin.com\", \"web.whatsapp.com\",\n",
        "            \"1688.com\", \"naohvspwc.info\", \"vboypro16.firebaseapp.com\", \"vote-academymoderators.com\", \"web-online-sup.com\"]\n",
        "df_pred = domain_prediction(dom_pred, model)\n",
        "df_pred.head(20)"
      ]
    },
    {
      "cell_type": "code",
      "execution_count": 30,
      "metadata": {
        "id": "6dHmj-hJZh0N",
        "colab": {
          "base_uri": "https://localhost:8080/"
        },
        "outputId": "917469b4-9cc4-4f06-a160-3f2df00b58d6"
      },
      "outputs": [
        {
          "output_type": "stream",
          "name": "stdout",
          "text": [
            "Epoch 1/10\n",
            "14363/14363 [==============================] - 53s 4ms/step - loss: 0.2890 - accuracy: 0.8728 - val_loss: 0.2615 - val_accuracy: 0.8861\n",
            "Epoch 2/10\n",
            "14363/14363 [==============================] - 56s 4ms/step - loss: 0.2533 - accuracy: 0.8902 - val_loss: 0.2520 - val_accuracy: 0.8906\n",
            "Epoch 3/10\n",
            "14363/14363 [==============================] - 55s 4ms/step - loss: 0.2428 - accuracy: 0.8952 - val_loss: 0.2481 - val_accuracy: 0.8929\n",
            "Epoch 4/10\n",
            "14363/14363 [==============================] - 52s 4ms/step - loss: 0.2358 - accuracy: 0.8988 - val_loss: 0.2445 - val_accuracy: 0.8944\n",
            "Epoch 5/10\n",
            "14363/14363 [==============================] - 55s 4ms/step - loss: 0.2307 - accuracy: 0.9015 - val_loss: 0.2450 - val_accuracy: 0.8960\n",
            "Epoch 6/10\n",
            "14363/14363 [==============================] - 52s 4ms/step - loss: 0.2271 - accuracy: 0.9031 - val_loss: 0.2478 - val_accuracy: 0.8925\n",
            "Epoch 7/10\n",
            "14363/14363 [==============================] - 55s 4ms/step - loss: 0.2235 - accuracy: 0.9044 - val_loss: 0.2486 - val_accuracy: 0.8952\n",
            "Epoch 8/10\n",
            "14363/14363 [==============================] - 51s 4ms/step - loss: 0.2209 - accuracy: 0.9063 - val_loss: 0.2461 - val_accuracy: 0.8959\n",
            "Epoch 9/10\n",
            "14363/14363 [==============================] - 53s 4ms/step - loss: 0.2181 - accuracy: 0.9072 - val_loss: 0.2458 - val_accuracy: 0.8966\n",
            "Epoch 10/10\n",
            "14363/14363 [==============================] - 52s 4ms/step - loss: 0.2159 - accuracy: 0.9084 - val_loss: 0.2443 - val_accuracy: 0.8963\n"
          ]
        },
        {
          "output_type": "execute_result",
          "data": {
            "text/plain": [
              "<keras.callbacks.History at 0x7f34506ff7f0>"
            ]
          },
          "metadata": {},
          "execution_count": 30
        }
      ],
      "source": [
        "#Model1:\n",
        "#Imports\n",
        "from keras.layers import Bidirectional, LSTM, Reshape\n",
        "#Model\n",
        "model_test = Sequential()\n",
        "model_test.add(Conv1D(50, 5, activation='relu', input_shape=(63,37)))\n",
        "model_test.add(MaxPooling1D(2))\n",
        "model_test.add(Flatten())\n",
        "model_test.add(Dense(30, activation='relu'))\n",
        "model_test.add(Dense(20, activation='relu'))\n",
        "model_test.add(Dense(2, activation='softmax'))\n",
        "#Compile CNN\n",
        "model_test.compile(loss='sparse_categorical_crossentropy', optimizer='adam', metrics=['accuracy'])\n",
        "#Train model\n",
        "model_test.fit(train_X, train_Y, validation_data=(test_X, test_Y), epochs=10, batch_size=32)"
      ]
    },
    {
      "cell_type": "code",
      "execution_count": 31,
      "metadata": {
        "id": "O7EOvRZzEZf1",
        "colab": {
          "base_uri": "https://localhost:8080/"
        },
        "outputId": "103dae9f-ec7e-4e45-bf8d-270f7178f7b0"
      },
      "outputs": [
        {
          "output_type": "stream",
          "name": "stdout",
          "text": [
            "Epoch 1/10\n",
            "14363/14363 [==============================] - 72s 5ms/step - loss: 0.2879 - accuracy: 0.8727 - val_loss: 0.2603 - val_accuracy: 0.8863\n",
            "Epoch 2/10\n",
            "14363/14363 [==============================] - 72s 5ms/step - loss: 0.2538 - accuracy: 0.8893 - val_loss: 0.2511 - val_accuracy: 0.8891\n",
            "Epoch 3/10\n",
            "14363/14363 [==============================] - 71s 5ms/step - loss: 0.2417 - accuracy: 0.8955 - val_loss: 0.2455 - val_accuracy: 0.8929\n",
            "Epoch 4/10\n",
            "14363/14363 [==============================] - 75s 5ms/step - loss: 0.2333 - accuracy: 0.9005 - val_loss: 0.2376 - val_accuracy: 0.8973\n",
            "Epoch 5/10\n",
            "14363/14363 [==============================] - 72s 5ms/step - loss: 0.2261 - accuracy: 0.9038 - val_loss: 0.2383 - val_accuracy: 0.8982\n",
            "Epoch 6/10\n",
            "14363/14363 [==============================] - 71s 5ms/step - loss: 0.2204 - accuracy: 0.9067 - val_loss: 0.2342 - val_accuracy: 0.8993\n",
            "Epoch 7/10\n",
            "14363/14363 [==============================] - 73s 5ms/step - loss: 0.2155 - accuracy: 0.9096 - val_loss: 0.2344 - val_accuracy: 0.8996\n",
            "Epoch 8/10\n",
            "14363/14363 [==============================] - 73s 5ms/step - loss: 0.2116 - accuracy: 0.9111 - val_loss: 0.2321 - val_accuracy: 0.9020\n",
            "Epoch 9/10\n",
            "14363/14363 [==============================] - 73s 5ms/step - loss: 0.2080 - accuracy: 0.9133 - val_loss: 0.2353 - val_accuracy: 0.8993\n",
            "Epoch 10/10\n",
            "14363/14363 [==============================] - 71s 5ms/step - loss: 0.2046 - accuracy: 0.9152 - val_loss: 0.2451 - val_accuracy: 0.8995\n",
            "3595/3595 [==============================] - 11s 3ms/step - loss: 0.2451 - accuracy: 0.8995\n",
            "Test loss: 0.24509453773498535\n",
            "Test accuracy: 0.8995113968849182\n"
          ]
        }
      ],
      "source": [
        "#Model 2\n",
        "model_test = Sequential()\n",
        "model_test.add(Conv1D(50, 2, activation='relu', input_shape=(63,37)))\n",
        "model_test.add(Conv1D(50, 3, activation='relu'))\n",
        "model_test.add(Conv1D(50, 4, activation='relu'))\n",
        "model_test.add(Conv1D(50, 5, activation='relu'))\n",
        "model_test.add(MaxPooling1D(2))\n",
        "model_test.add(Flatten())\n",
        "model_test.add(Dense(30, activation='relu'))\n",
        "model_test.add(Dense(20, activation='relu'))\n",
        "model_test.add(Dense(2, activation='softmax'))\n",
        "#Compile CNN\n",
        "model_test.compile(loss='sparse_categorical_crossentropy', optimizer='adam', metrics=['accuracy'])\n",
        "#Train model\n",
        "history = model_test.fit(train_X, train_Y, validation_data=(test_X, test_Y), epochs=10, batch_size=32)\n",
        "#Eval\n",
        "test_eval = model_test.evaluate(test_X, test_Y, verbose=1)\n",
        "print('Test loss:', test_eval[0])\n",
        "print('Test accuracy:', test_eval[1])"
      ]
    },
    {
      "cell_type": "code",
      "execution_count": 32,
      "metadata": {
        "id": "vegIFkWeY-BM",
        "colab": {
          "base_uri": "https://localhost:8080/"
        },
        "outputId": "1a85bbe2-f701-42a3-c9ab-4f9cc68bbbce"
      },
      "outputs": [
        {
          "output_type": "stream",
          "name": "stdout",
          "text": [
            "Epoch 1/10\n",
            "14363/14363 [==============================] - 78s 5ms/step - loss: 0.2871 - accuracy: 0.8734 - val_loss: 0.2606 - val_accuracy: 0.8870\n",
            "Epoch 2/10\n",
            "14363/14363 [==============================] - 75s 5ms/step - loss: 0.2533 - accuracy: 0.8898 - val_loss: 0.2485 - val_accuracy: 0.8925\n",
            "Epoch 3/10\n",
            "14363/14363 [==============================] - 76s 5ms/step - loss: 0.2412 - accuracy: 0.8960 - val_loss: 0.2402 - val_accuracy: 0.8964\n",
            "Epoch 4/10\n",
            "14363/14363 [==============================] - 73s 5ms/step - loss: 0.2327 - accuracy: 0.9010 - val_loss: 0.2380 - val_accuracy: 0.8984\n",
            "Epoch 5/10\n",
            "14363/14363 [==============================] - 74s 5ms/step - loss: 0.2264 - accuracy: 0.9039 - val_loss: 0.2366 - val_accuracy: 0.8981\n",
            "Epoch 6/10\n",
            "14363/14363 [==============================] - 77s 5ms/step - loss: 0.2212 - accuracy: 0.9067 - val_loss: 0.2360 - val_accuracy: 0.8989\n",
            "Epoch 7/10\n",
            "14363/14363 [==============================] - 72s 5ms/step - loss: 0.2169 - accuracy: 0.9090 - val_loss: 0.2347 - val_accuracy: 0.8999\n",
            "Epoch 8/10\n",
            "14363/14363 [==============================] - 72s 5ms/step - loss: 0.2131 - accuracy: 0.9109 - val_loss: 0.2310 - val_accuracy: 0.9022\n",
            "Epoch 9/10\n",
            "14363/14363 [==============================] - 73s 5ms/step - loss: 0.2097 - accuracy: 0.9127 - val_loss: 0.2347 - val_accuracy: 0.9007\n",
            "Epoch 10/10\n",
            "14363/14363 [==============================] - 72s 5ms/step - loss: 0.2064 - accuracy: 0.9143 - val_loss: 0.2333 - val_accuracy: 0.9026\n",
            "3595/3595 [==============================] - 10s 3ms/step - loss: 0.2333 - accuracy: 0.9026\n",
            "Test loss: 0.2333277314901352\n",
            "Test accuracy: 0.9026411175727844\n"
          ]
        }
      ],
      "source": [
        "#Model4:\n",
        "model_test = Sequential()\n",
        "model_test.add(Conv1D(50, 2, activation='relu', input_shape=(63,37)))\n",
        "model_test.add(Conv1D(50, 3, activation='relu'))\n",
        "model_test.add(Conv1D(50, 4, activation='relu'))\n",
        "model_test.add(Conv1D(50, 5, activation='relu'))\n",
        "model_test.add(MaxPooling1D(2))\n",
        "model_test.add(Flatten())\n",
        "model_test.add(Dense(256, activation='relu'))\n",
        "model_test.add(Dense(128, activation='relu'))\n",
        "model_test.add(Dense(2, activation='softmax'))\n",
        "#Compile CNN\n",
        "model_test.compile(loss='sparse_categorical_crossentropy', optimizer='adam', metrics=['accuracy'])\n",
        "#Train model\n",
        "history = model_test.fit(train_X, train_Y, validation_data=(test_X, test_Y), epochs=10, batch_size=32)\n",
        "#Eval\n",
        "test_eval = model_test.evaluate(test_X, test_Y, verbose=1)\n",
        "print('Test loss:', test_eval[0])\n",
        "print('Test accuracy:', test_eval[1])"
      ]
    },
    {
      "cell_type": "code",
      "execution_count": 33,
      "metadata": {
        "id": "5ZYauPLLGsgR",
        "colab": {
          "base_uri": "https://localhost:8080/"
        },
        "outputId": "72a04794-9317-43e6-9e77-aca4a451c4c8"
      },
      "outputs": [
        {
          "output_type": "stream",
          "name": "stdout",
          "text": [
            "Epoch 1/10\n",
            "14363/14363 [==============================] - 74s 5ms/step - loss: 0.2861 - accuracy: 0.8736 - val_loss: 0.2573 - val_accuracy: 0.8867\n",
            "Epoch 2/10\n",
            "14363/14363 [==============================] - 74s 5ms/step - loss: 0.2537 - accuracy: 0.8900 - val_loss: 0.2466 - val_accuracy: 0.8922\n",
            "Epoch 3/10\n",
            "14363/14363 [==============================] - 75s 5ms/step - loss: 0.2419 - accuracy: 0.8963 - val_loss: 0.2420 - val_accuracy: 0.8949\n",
            "Epoch 4/10\n",
            "14363/14363 [==============================] - 74s 5ms/step - loss: 0.2336 - accuracy: 0.9003 - val_loss: 0.2383 - val_accuracy: 0.8971\n",
            "Epoch 5/10\n",
            "14363/14363 [==============================] - 74s 5ms/step - loss: 0.2273 - accuracy: 0.9036 - val_loss: 0.2340 - val_accuracy: 0.8997\n",
            "Epoch 6/10\n",
            "14363/14363 [==============================] - 72s 5ms/step - loss: 0.2222 - accuracy: 0.9063 - val_loss: 0.2316 - val_accuracy: 0.9004\n",
            "Epoch 7/10\n",
            "14363/14363 [==============================] - 73s 5ms/step - loss: 0.2179 - accuracy: 0.9076 - val_loss: 0.2335 - val_accuracy: 0.9000\n",
            "Epoch 8/10\n",
            "14363/14363 [==============================] - 73s 5ms/step - loss: 0.2133 - accuracy: 0.9100 - val_loss: 0.2344 - val_accuracy: 0.9014\n",
            "Epoch 9/10\n",
            "14363/14363 [==============================] - 73s 5ms/step - loss: 0.2100 - accuracy: 0.9122 - val_loss: 0.2346 - val_accuracy: 0.9011\n",
            "Epoch 10/10\n",
            "14363/14363 [==============================] - 73s 5ms/step - loss: 0.2072 - accuracy: 0.9135 - val_loss: 0.2376 - val_accuracy: 0.9018\n",
            "3595/3595 [==============================] - 11s 3ms/step - loss: 0.2376 - accuracy: 0.9018\n",
            "Test loss: 0.23756074905395508\n",
            "Test accuracy: 0.9017804265022278\n"
          ]
        }
      ],
      "source": [
        "#Model5:\n",
        "model_test = Sequential()\n",
        "model_test.add(Conv1D(50, 2, activation='relu', input_shape=(63,37)))\n",
        "model_test.add(Conv1D(50, 3, activation='relu'))\n",
        "model_test.add(Conv1D(50, 4, activation='relu'))\n",
        "model_test.add(Conv1D(50, 5, activation='relu'))\n",
        "model_test.add(MaxPooling1D(2))\n",
        "model_test.add(Flatten())\n",
        "model_test.add(Dense(256, activation='relu'))\n",
        "model_test.add(Dense(128, activation='relu'))\n",
        "model_test.add(Dense(64, activation='relu'))\n",
        "model_test.add(Dense(2, activation='softmax'))\n",
        "#Compile CNN\n",
        "model_test.compile(loss='sparse_categorical_crossentropy', optimizer='adam', metrics=['accuracy'])\n",
        "#Train model\n",
        "history = model_test.fit(train_X, train_Y, validation_data=(test_X, test_Y), epochs=10, batch_size=32)\n",
        "#Eval\n",
        "test_eval = model_test.evaluate(test_X, test_Y, verbose=1)\n",
        "print('Test loss:', test_eval[0])\n",
        "print('Test accuracy:', test_eval[1])"
      ]
    },
    {
      "cell_type": "code",
      "execution_count": 34,
      "metadata": {
        "id": "l1TrogoI8y65",
        "colab": {
          "base_uri": "https://localhost:8080/"
        },
        "outputId": "e00ce152-7ff9-4d61-a52a-47dc8218595c"
      },
      "outputs": [
        {
          "output_type": "stream",
          "name": "stdout",
          "text": [
            "Epoch 1/10\n",
            "14363/14363 [==============================] - 71s 5ms/step - loss: 0.2872 - accuracy: 0.8733 - val_loss: 0.2604 - val_accuracy: 0.8884\n",
            "Epoch 2/10\n",
            "14363/14363 [==============================] - 71s 5ms/step - loss: 0.2534 - accuracy: 0.8899 - val_loss: 0.2474 - val_accuracy: 0.8919\n",
            "Epoch 3/10\n",
            "14363/14363 [==============================] - 71s 5ms/step - loss: 0.2415 - accuracy: 0.8960 - val_loss: 0.2427 - val_accuracy: 0.8951\n",
            "Epoch 4/10\n",
            "14363/14363 [==============================] - 69s 5ms/step - loss: 0.2330 - accuracy: 0.9003 - val_loss: 0.2374 - val_accuracy: 0.8985\n",
            "Epoch 5/10\n",
            "14363/14363 [==============================] - 72s 5ms/step - loss: 0.2262 - accuracy: 0.9033 - val_loss: 0.2371 - val_accuracy: 0.8994\n",
            "Epoch 6/10\n",
            "14363/14363 [==============================] - 71s 5ms/step - loss: 0.2203 - accuracy: 0.9069 - val_loss: 0.2379 - val_accuracy: 0.8979\n",
            "Epoch 7/10\n",
            "14363/14363 [==============================] - 71s 5ms/step - loss: 0.2156 - accuracy: 0.9093 - val_loss: 0.2334 - val_accuracy: 0.9002\n",
            "Epoch 8/10\n",
            "14363/14363 [==============================] - 71s 5ms/step - loss: 0.2108 - accuracy: 0.9114 - val_loss: 0.2351 - val_accuracy: 0.9007\n",
            "Epoch 9/10\n",
            "14363/14363 [==============================] - 70s 5ms/step - loss: 0.2072 - accuracy: 0.9134 - val_loss: 0.2309 - val_accuracy: 0.9020\n",
            "Epoch 10/10\n",
            "14363/14363 [==============================] - 71s 5ms/step - loss: 0.2040 - accuracy: 0.9151 - val_loss: 0.2332 - val_accuracy: 0.9019\n",
            "3595/3595 [==============================] - 11s 3ms/step - loss: 0.2332 - accuracy: 0.9019\n",
            "Test loss: 0.23317378759384155\n",
            "Test accuracy: 0.901936948299408\n"
          ]
        }
      ],
      "source": [
        "#Model6:\n",
        "model_test = Sequential()\n",
        "model_test.add(Conv1D(50, 2, activation='relu', input_shape=(63,37)))\n",
        "model_test.add(Conv1D(50, 3, activation='relu'))\n",
        "model_test.add(Conv1D(50, 4, activation='relu'))\n",
        "model_test.add(Conv1D(50, 5, activation='relu'))\n",
        "model_test.add(MaxPooling1D(2))\n",
        "model_test.add(Flatten())\n",
        "model_test.add(Dense(30, activation='relu'))\n",
        "model_test.add(Dense(20, activation='relu'))\n",
        "model_test.add(Dense(10, activation='relu'))\n",
        "model_test.add(Dense(2, activation='softmax'))\n",
        "#Compile CNN\n",
        "model_test.compile(loss='sparse_categorical_crossentropy', optimizer='adam', metrics=['accuracy'])\n",
        "#Train model\n",
        "history = model_test.fit(train_X, train_Y, validation_data=(test_X, test_Y), epochs=10, batch_size=32)\n",
        "#Eval\n",
        "test_eval = model_test.evaluate(test_X, test_Y, verbose=1)\n",
        "print('Test loss:', test_eval[0])\n",
        "print('Test accuracy:', test_eval[1])"
      ]
    },
    {
      "cell_type": "code",
      "execution_count": 35,
      "metadata": {
        "id": "pHylKkhOmy0x",
        "colab": {
          "base_uri": "https://localhost:8080/",
          "height": 625
        },
        "outputId": "e17fec57-2c88-4c76-cdad-1d830a103f99"
      },
      "outputs": [
        {
          "output_type": "display_data",
          "data": {
            "text/plain": [
              "<Figure size 432x288 with 1 Axes>"
            ],
            "image/png": "[encoded data removed]"
          },
          "metadata": {
            "needs_background": "light"
          }
        },
        {
          "output_type": "display_data",
          "data": {
            "text/plain": [
              "<Figure size 432x288 with 1 Axes>"
            ],
            "image/png": "[encoded data removed]"
          },
          "metadata": {
            "needs_background": "light"
          }
        },
        {
          "output_type": "stream",
          "name": "stdout",
          "text": [
            "3595/3595 [==============================] - 10s 3ms/step - loss: 0.2332 - accuracy: 0.9019\n",
            "Test loss: 0.23317378759384155\n",
            "Test accuracy: 0.901936948299408\n"
          ]
        }
      ],
      "source": [
        "#Plot accuracy and validation loss of the model\n",
        "accuracy = history.history['accuracy']\n",
        "val_accuracy = history.history['accuracy']\n",
        "loss = history.history['loss']\n",
        "val_loss = history.history['val_loss']\n",
        "epochs = range(len(accuracy))\n",
        "plt.plot(epochs, accuracy, 'bo', label='Training accuracy')\n",
        "plt.plot(epochs, val_accuracy, 'b', label='Validation accuracy')\n",
        "plt.title('Training and validation accuracy')\n",
        "plt.xlabel('Epoch')\n",
        "plt.ylabel('Accuracy')\n",
        "plt.ylim([0.5, 1])\n",
        "plt.legend(loc='lower right')\n",
        "plt.figure()\n",
        "\n",
        "plt.plot(epochs, loss, 'bo', label='Training loss')\n",
        "plt.plot(epochs, val_loss, 'b', label='Validation loss')\n",
        "plt.title('Training and validation loss')\n",
        "plt.xlabel('Epoch')\n",
        "plt.ylabel('Loss')\n",
        "plt.legend()\n",
        "plt.show()\n",
        "\n",
        "test_eval = model_test.evaluate(test_X, test_Y, verbose=1)\n",
        "print('Test loss:', test_eval[0])\n",
        "print('Test accuracy:', test_eval[1])"
      ]
    },
    {
      "cell_type": "code",
      "execution_count": 36,
      "metadata": {
        "id": "kHPP_nYQLmli",
        "colab": {
          "base_uri": "https://localhost:8080/",
          "height": 87
        },
        "outputId": "23a3ee12-2c1a-4db4-e16e-8f5d99e77b90"
      },
      "outputs": [
        {
          "output_type": "execute_result",
          "data": {
            "text/plain": [
              "\"\\n#Imports\\nfrom keras.layers import Bidirectional, LSTM, Reshape\\n#Model\\nmodel1 = Sequential()\\nmodel1.add(Conv1D(50, 2, activation='relu', input_shape=(63,37)))\\nmodel1.add(Conv1D(50, 3, activation='relu'))\\nmodel1.add(Conv1D(50, 4, activation='relu'))\\nmodel1.add(Conv1D(50, 5, activation='relu'))\\nmodel1.add(MaxPooling1D(2))\\nforward_layer = LSTM(128, return_sequences=True)\\nbackward_layer = LSTM(128, activation='relu', return_sequences=True, go_backwards=True)\\nmodel1.add(Bidirectional(forward_layer, backward_layer=backward_layer))\\nmodel1.add(Flatten())\\nmodel1.add(Dense(30, activation='relu'))\\nmodel1.add(Dense(20, activation='relu'))\\nmodel1.add(Dense(2, activation='softmax'))\\n#Compile CNN\\nmodel1.compile(loss='sparse_categorical_crossentropy', optimizer='adam', metrics=['accuracy'])\\n#Train model\\nhistory = model1.fit(train_X, train_Y, validation_data=(test_X, test_Y), epochs=10, batch_size=32)\\n\""
            ],
            "application/vnd.google.colaboratory.intrinsic+json": {
              "type": "string"
            }
          },
          "metadata": {},
          "execution_count": 36
        }
      ],
      "source": [
        "#Model3:\n",
        "'''\n",
        "#Imports\n",
        "from keras.layers import Bidirectional, LSTM, Reshape\n",
        "#Model\n",
        "model1 = Sequential()\n",
        "model1.add(Conv1D(50, 2, activation='relu', input_shape=(63,37)))\n",
        "model1.add(Conv1D(50, 3, activation='relu'))\n",
        "model1.add(Conv1D(50, 4, activation='relu'))\n",
        "model1.add(Conv1D(50, 5, activation='relu'))\n",
        "model1.add(MaxPooling1D(2))\n",
        "forward_layer = LSTM(128, return_sequences=True)\n",
        "backward_layer = LSTM(128, activation='relu', return_sequences=True, go_backwards=True)\n",
        "model1.add(Bidirectional(forward_layer, backward_layer=backward_layer))\n",
        "model1.add(Flatten())\n",
        "model1.add(Dense(30, activation='relu'))\n",
        "model1.add(Dense(20, activation='relu'))\n",
        "model1.add(Dense(2, activation='softmax'))\n",
        "#Compile CNN\n",
        "model1.compile(loss='sparse_categorical_crossentropy', optimizer='adam', metrics=['accuracy'])\n",
        "#Train model\n",
        "history = model1.fit(train_X, train_Y, validation_data=(test_X, test_Y), epochs=10, batch_size=32)\n",
        "'''"
      ]
    },
    {
      "cell_type": "markdown",
      "metadata": {
        "id": "D27bSHJbLaA9"
      },
      "source": [
        "https://www.datacamp.com/community/tutorials/convolutional-neural-networks-python\n",
        "https://www.analyticsvidhya.com/blog/2021/08/beginners-guide-to-convolutional-neural-network-with-implementation-in-python/\n",
        "https://pub.towardsai.net/convolutional-neural-networks-cnns-tutorial-with-python-417c29f0403f\n",
        "https://www.tensorflow.org/tutorials/images/cnn\n",
        "https://www.datacamp.com/blog/keras-cheat-sheet-neural-networks-in-python\n",
        "https://www.tensorflow.org/text/guide/word_embeddings\n",
        "https://www.kaggle.com/code/kawiswara/malicious-web-detection-with-1d-cnn#Create-CNN-Model\n",
        "https://towardsdatascience.com/building-a-one-hot-encoding-layer-with-tensorflow-f907d686bf39"
      ]
    }
  ],
  "metadata": {
    "accelerator": "GPU",
    "colab": {
      "provenance": []
    },
    "kernelspec": {
      "display_name": "Python 3",
      "name": "python3"
    },
    "language_info": {
      "name": "python"
    }
  },
  "nbformat": 4,
  "nbformat_minor": 0
}