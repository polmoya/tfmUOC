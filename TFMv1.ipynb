{
  "cells": [
    {
      "cell_type": "code",
      "execution_count": 1,
      "metadata": {
        "id": "CWSGBnP8U4FK"
      },
      "outputs": [],
      "source": [
        "import pandas as pd\n",
        "import numpy as np\n",
        "import re\n",
        "import tensorflow as tf\n",
        "import matplotlib.pyplot as plt\n",
        "%matplotlib inline"
      ]
    },
    {
      "cell_type": "code",
      "execution_count": 2,
      "metadata": {
        "id": "YF6t0sKpGWTx",
        "colab": {
          "base_uri": "https://localhost:8080/"
        },
        "outputId": "e0a9837f-8e36-49a7-d867-d26e06f9c6dd"
      },
      "outputs": [
        {
          "output_type": "stream",
          "name": "stdout",
          "text": [
            "Found GPU at: /device:GPU:0\n"
          ]
        }
      ],
      "source": [
        "#Check that we execute with gpu\n",
        "device_name = tf.test.gpu_device_name()\n",
        "if device_name != '/device:GPU:0':\n",
        "  print(('GPU device not found'))\n",
        "print('Found GPU at: {}'.format(device_name))"
      ]
    },
    {
      "cell_type": "code",
      "execution_count": 3,
      "metadata": {
        "id": "5vCebaRBcFug"
      },
      "outputs": [],
      "source": [
        "#Read tagged domains\n",
        "dom_tagged = pd.read_csv('https://raw.githubusercontent.com/polmoya/tfmUOC/main/clean_data.csv', sep=\",\")  #Option1 with datasets (phishing + surbl + spam)\n",
        "#dom_tagged = pd.read_csv('https://raw.githubusercontent.com/polmoya/tfmUOC/main/clean_data_1.csv', sep=\",\") #Option2 with dataset (malicious mix)"
      ]
    },
    {
      "cell_type": "code",
      "source": [
        "dom_tagged.head()"
      ],
      "metadata": {
        "colab": {
          "base_uri": "https://localhost:8080/",
          "height": 206
        },
        "id": "5wheNEjdWwTI",
        "outputId": "39543d70-d9a1-47e1-b956-bce2c87bd763"
      },
      "execution_count": 4,
      "outputs": [
        {
          "output_type": "execute_result",
          "data": {
            "text/plain": [
              "           dom_name           sld  \\\n",
              "0        google.com        google   \n",
              "1  gtld-servers.net  gtld-servers   \n",
              "2       youtube.com       youtube   \n",
              "3      facebook.com      facebook   \n",
              "4    akamaiedge.net    akamaiedge   \n",
              "\n",
              "                                           sld_clean  dangerous  \n",
              "0  ##############################################...          0  \n",
              "1  ##############################################...          0  \n",
              "2  ##############################################...          0  \n",
              "3  ##############################################...          0  \n",
              "4  ##############################################...          0  "
            ],
            "text/html": [
              "\n",
              "  <div id=\"df-891ec34f-725b-4538-a0be-55885aaaf815\">\n",
              "    <div class=\"colab-df-container\">\n",
              "      <div>\n",
              "<style scoped>\n",
              "    .dataframe tbody tr th:only-of-type {\n",
              "        vertical-align: middle;\n",
              "    }\n",
              "\n",
              "    .dataframe tbody tr th {\n",
              "        vertical-align: top;\n",
              "    }\n",
              "\n",
              "    .dataframe thead th {\n",
              "        text-align: right;\n",
              "    }\n",
              "</style>\n",
              "<table border=\"1\" class=\"dataframe\">\n",
              "  <thead>\n",
              "    <tr style=\"text-align: right;\">\n",
              "      <th></th>\n",
              "      <th>dom_name</th>\n",
              "      <th>sld</th>\n",
              "      <th>sld_clean</th>\n",
              "      <th>dangerous</th>\n",
              "    </tr>\n",
              "  </thead>\n",
              "  <tbody>\n",
              "    <tr>\n",
              "      <th>0</th>\n",
              "      <td>google.com</td>\n",
              "      <td>google</td>\n",
              "      <td>##############################################...</td>\n",
              "      <td>0</td>\n",
              "    </tr>\n",
              "    <tr>\n",
              "      <th>1</th>\n",
              "      <td>gtld-servers.net</td>\n",
              "      <td>gtld-servers</td>\n",
              "      <td>##############################################...</td>\n",
              "      <td>0</td>\n",
              "    </tr>\n",
              "    <tr>\n",
              "      <th>2</th>\n",
              "      <td>youtube.com</td>\n",
              "      <td>youtube</td>\n",
              "      <td>##############################################...</td>\n",
              "      <td>0</td>\n",
              "    </tr>\n",
              "    <tr>\n",
              "      <th>3</th>\n",
              "      <td>facebook.com</td>\n",
              "      <td>facebook</td>\n",
              "      <td>##############################################...</td>\n",
              "      <td>0</td>\n",
              "    </tr>\n",
              "    <tr>\n",
              "      <th>4</th>\n",
              "      <td>akamaiedge.net</td>\n",
              "      <td>akamaiedge</td>\n",
              "      <td>##############################################...</td>\n",
              "      <td>0</td>\n",
              "    </tr>\n",
              "  </tbody>\n",
              "</table>\n",
              "</div>\n",
              "      <button class=\"colab-df-convert\" onclick=\"convertToInteractive('df-891ec34f-725b-4538-a0be-55885aaaf815')\"\n",
              "              title=\"Convert this dataframe to an interactive table.\"\n",
              "              style=\"display:none;\">\n",
              "        \n",
              "  <svg xmlns=\"http://www.w3.org/2000/svg\" height=\"24px\"viewBox=\"0 0 24 24\"\n",
              "       width=\"24px\">\n",
              "    <path d=\"M0 0h24v24H0V0z\" fill=\"none\"/>\n",
              "    <path d=\"M18.56 5.44l.94 2.06.94-2.06 2.06-.94-2.06-.94-.94-2.06-.94 2.06-2.06.94zm-11 1L8.5 8.5l.94-2.06 2.06-.94-2.06-.94L8.5 2.5l-.94 2.06-2.06.94zm10 10l.94 2.06.94-2.06 2.06-.94-2.06-.94-.94-2.06-.94 2.06-2.06.94z\"/><path d=\"M17.41 7.96l-1.37-1.37c-.4-.4-.92-.59-1.43-.59-.52 0-1.04.2-1.43.59L10.3 9.45l-7.72 7.72c-.78.78-.78 2.05 0 2.83L4 21.41c.39.39.9.59 1.41.59.51 0 1.02-.2 1.41-.59l7.78-7.78 2.81-2.81c.8-.78.8-2.07 0-2.86zM5.41 20L4 18.59l7.72-7.72 1.47 1.35L5.41 20z\"/>\n",
              "  </svg>\n",
              "      </button>\n",
              "      \n",
              "  <style>\n",
              "    .colab-df-container {\n",
              "      display:flex;\n",
              "      flex-wrap:wrap;\n",
              "      gap: 12px;\n",
              "    }\n",
              "\n",
              "    .colab-df-convert {\n",
              "      background-color: #E8F0FE;\n",
              "      border: none;\n",
              "      border-radius: 50%;\n",
              "      cursor: pointer;\n",
              "      display: none;\n",
              "      fill: #1967D2;\n",
              "      height: 32px;\n",
              "      padding: 0 0 0 0;\n",
              "      width: 32px;\n",
              "    }\n",
              "\n",
              "    .colab-df-convert:hover {\n",
              "      background-color: #E2EBFA;\n",
              "      box-shadow: 0px 1px 2px rgba(60, 64, 67, 0.3), 0px 1px 3px 1px rgba(60, 64, 67, 0.15);\n",
              "      fill: #174EA6;\n",
              "    }\n",
              "\n",
              "    [theme=dark] .colab-df-convert {\n",
              "      background-color: #3B4455;\n",
              "      fill: #D2E3FC;\n",
              "    }\n",
              "\n",
              "    [theme=dark] .colab-df-convert:hover {\n",
              "      background-color: #434B5C;\n",
              "      box-shadow: 0px 1px 3px 1px rgba(0, 0, 0, 0.15);\n",
              "      filter: drop-shadow(0px 1px 2px rgba(0, 0, 0, 0.3));\n",
              "      fill: #FFFFFF;\n",
              "    }\n",
              "  </style>\n",
              "\n",
              "      <script>\n",
              "        const buttonEl =\n",
              "          document.querySelector('#df-891ec34f-725b-4538-a0be-55885aaaf815 button.colab-df-convert');\n",
              "        buttonEl.style.display =\n",
              "          google.colab.kernel.accessAllowed ? 'block' : 'none';\n",
              "\n",
              "        async function convertToInteractive(key) {\n",
              "          const element = document.querySelector('#df-891ec34f-725b-4538-a0be-55885aaaf815');\n",
              "          const dataTable =\n",
              "            await google.colab.kernel.invokeFunction('convertToInteractive',\n",
              "                                                     [key], {});\n",
              "          if (!dataTable) return;\n",
              "\n",
              "          const docLinkHtml = 'Like what you see? Visit the ' +\n",
              "            '<a target=\"_blank\" href=https://colab.research.google.com/notebooks/data_table.ipynb>data table notebook</a>'\n",
              "            + ' to learn more about interactive tables.';\n",
              "          element.innerHTML = '';\n",
              "          dataTable['output_type'] = 'display_data';\n",
              "          await google.colab.output.renderOutput(dataTable, element);\n",
              "          const docLink = document.createElement('div');\n",
              "          docLink.innerHTML = docLinkHtml;\n",
              "          element.appendChild(docLink);\n",
              "        }\n",
              "      </script>\n",
              "    </div>\n",
              "  </div>\n",
              "  "
            ]
          },
          "metadata": {},
          "execution_count": 4
        }
      ]
    },
    {
      "cell_type": "code",
      "execution_count": 5,
      "metadata": {
        "id": "4eyPqutXiaB7"
      },
      "outputs": [],
      "source": [
        "#Onehotencode of an sld\n",
        "#Input: String, sld\n",
        "#Output: Tensor with value the one_hot_encode of sld\n",
        "def onehotencode(sld):\n",
        "  #Character '#' represents the dummy variable\n",
        "  alphabets = {'a' : 0, 'b': 1, 'c':2, 'd':3, 'e':4, 'f':5, 'g':6, 'h':7, 'i':8, 'j':9, 'k':10, 'l':11, 'm':12, 'n':13, 'o':14, \n",
        "               'p': 15, 'q': 16, 'r':17, 's': 18, 't': 19, 'u': 20, 'v': 21, 'w': 22, 'x': 23, 'y': 24, 'z': 25, \n",
        "               '0': 26, '1': 27, '2': 28, '3': 29, '4': 30, '5': 31, '6': 32, '7': 33, '8': 34, '9': 35, '-': 36, '#': 37}\n",
        "  idxs = [alphabets[ch] for ch in sld]\n",
        "  return tf.one_hot(idxs, 37, dtype=tf.float16)"
      ]
    },
    {
      "cell_type": "code",
      "execution_count": 6,
      "metadata": {
        "id": "zuvcoG8ScGF7"
      },
      "outputs": [],
      "source": [
        "#Funcio realitza el one_hot_encode de la llista de slds.\n",
        "#One_hot_encode of the slds from a dataframe\n",
        "#Input: dataframe\n",
        "#Output: Column 'sld_one_hot' added to dataframe\n",
        "def onehotencode_column(df):\n",
        "  #Extract list of sld_clean\n",
        "  sld = df['sld_clean'].values.tolist()\n",
        "  one_hot_sld = []\n",
        "  for x in sld:\n",
        "    one_hot_sld.append(onehotencode(x))\n",
        "  #Add to dataframe the sld_clean values one_hot_encoded\n",
        "  df['sld_one_hot'] = one_hot_sld"
      ]
    },
    {
      "cell_type": "code",
      "execution_count": 7,
      "metadata": {
        "id": "rnpChmN5sX3u"
      },
      "outputs": [],
      "source": [
        "onehotencode_column(dom_tagged)"
      ]
    },
    {
      "cell_type": "code",
      "source": [
        "dom_tagged.head()"
      ],
      "metadata": {
        "colab": {
          "base_uri": "https://localhost:8080/",
          "height": 206
        },
        "id": "d5qkdN0jXk1o",
        "outputId": "3bc22ea7-3190-4725-e0e0-ece7c7eadbd8"
      },
      "execution_count": 8,
      "outputs": [
        {
          "output_type": "execute_result",
          "data": {
            "text/plain": [
              "           dom_name           sld  \\\n",
              "0        google.com        google   \n",
              "1  gtld-servers.net  gtld-servers   \n",
              "2       youtube.com       youtube   \n",
              "3      facebook.com      facebook   \n",
              "4    akamaiedge.net    akamaiedge   \n",
              "\n",
              "                                           sld_clean  dangerous  \\\n",
              "0  ##############################################...          0   \n",
              "1  ##############################################...          0   \n",
              "2  ##############################################...          0   \n",
              "3  ##############################################...          0   \n",
              "4  ##############################################...          0   \n",
              "\n",
              "                                         sld_one_hot  \n",
              "0  ((tf.Tensor(0.0, shape=(), dtype=float16), tf....  \n",
              "1  ((tf.Tensor(0.0, shape=(), dtype=float16), tf....  \n",
              "2  ((tf.Tensor(0.0, shape=(), dtype=float16), tf....  \n",
              "3  ((tf.Tensor(0.0, shape=(), dtype=float16), tf....  \n",
              "4  ((tf.Tensor(0.0, shape=(), dtype=float16), tf....  "
            ],
            "text/html": [
              "\n",
              "  <div id=\"df-078046c0-48f6-480d-817c-9febffdbfbff\">\n",
              "    <div class=\"colab-df-container\">\n",
              "      <div>\n",
              "<style scoped>\n",
              "    .dataframe tbody tr th:only-of-type {\n",
              "        vertical-align: middle;\n",
              "    }\n",
              "\n",
              "    .dataframe tbody tr th {\n",
              "        vertical-align: top;\n",
              "    }\n",
              "\n",
              "    .dataframe thead th {\n",
              "        text-align: right;\n",
              "    }\n",
              "</style>\n",
              "<table border=\"1\" class=\"dataframe\">\n",
              "  <thead>\n",
              "    <tr style=\"text-align: right;\">\n",
              "      <th></th>\n",
              "      <th>dom_name</th>\n",
              "      <th>sld</th>\n",
              "      <th>sld_clean</th>\n",
              "      <th>dangerous</th>\n",
              "      <th>sld_one_hot</th>\n",
              "    </tr>\n",
              "  </thead>\n",
              "  <tbody>\n",
              "    <tr>\n",
              "      <th>0</th>\n",
              "      <td>google.com</td>\n",
              "      <td>google</td>\n",
              "      <td>##############################################...</td>\n",
              "      <td>0</td>\n",
              "      <td>((tf.Tensor(0.0, shape=(), dtype=float16), tf....</td>\n",
              "    </tr>\n",
              "    <tr>\n",
              "      <th>1</th>\n",
              "      <td>gtld-servers.net</td>\n",
              "      <td>gtld-servers</td>\n",
              "      <td>##############################################...</td>\n",
              "      <td>0</td>\n",
              "      <td>((tf.Tensor(0.0, shape=(), dtype=float16), tf....</td>\n",
              "    </tr>\n",
              "    <tr>\n",
              "      <th>2</th>\n",
              "      <td>youtube.com</td>\n",
              "      <td>youtube</td>\n",
              "      <td>##############################################...</td>\n",
              "      <td>0</td>\n",
              "      <td>((tf.Tensor(0.0, shape=(), dtype=float16), tf....</td>\n",
              "    </tr>\n",
              "    <tr>\n",
              "      <th>3</th>\n",
              "      <td>facebook.com</td>\n",
              "      <td>facebook</td>\n",
              "      <td>##############################################...</td>\n",
              "      <td>0</td>\n",
              "      <td>((tf.Tensor(0.0, shape=(), dtype=float16), tf....</td>\n",
              "    </tr>\n",
              "    <tr>\n",
              "      <th>4</th>\n",
              "      <td>akamaiedge.net</td>\n",
              "      <td>akamaiedge</td>\n",
              "      <td>##############################################...</td>\n",
              "      <td>0</td>\n",
              "      <td>((tf.Tensor(0.0, shape=(), dtype=float16), tf....</td>\n",
              "    </tr>\n",
              "  </tbody>\n",
              "</table>\n",
              "</div>\n",
              "      <button class=\"colab-df-convert\" onclick=\"convertToInteractive('df-078046c0-48f6-480d-817c-9febffdbfbff')\"\n",
              "              title=\"Convert this dataframe to an interactive table.\"\n",
              "              style=\"display:none;\">\n",
              "        \n",
              "  <svg xmlns=\"http://www.w3.org/2000/svg\" height=\"24px\"viewBox=\"0 0 24 24\"\n",
              "       width=\"24px\">\n",
              "    <path d=\"M0 0h24v24H0V0z\" fill=\"none\"/>\n",
              "    <path d=\"M18.56 5.44l.94 2.06.94-2.06 2.06-.94-2.06-.94-.94-2.06-.94 2.06-2.06.94zm-11 1L8.5 8.5l.94-2.06 2.06-.94-2.06-.94L8.5 2.5l-.94 2.06-2.06.94zm10 10l.94 2.06.94-2.06 2.06-.94-2.06-.94-.94-2.06-.94 2.06-2.06.94z\"/><path d=\"M17.41 7.96l-1.37-1.37c-.4-.4-.92-.59-1.43-.59-.52 0-1.04.2-1.43.59L10.3 9.45l-7.72 7.72c-.78.78-.78 2.05 0 2.83L4 21.41c.39.39.9.59 1.41.59.51 0 1.02-.2 1.41-.59l7.78-7.78 2.81-2.81c.8-.78.8-2.07 0-2.86zM5.41 20L4 18.59l7.72-7.72 1.47 1.35L5.41 20z\"/>\n",
              "  </svg>\n",
              "      </button>\n",
              "      \n",
              "  <style>\n",
              "    .colab-df-container {\n",
              "      display:flex;\n",
              "      flex-wrap:wrap;\n",
              "      gap: 12px;\n",
              "    }\n",
              "\n",
              "    .colab-df-convert {\n",
              "      background-color: #E8F0FE;\n",
              "      border: none;\n",
              "      border-radius: 50%;\n",
              "      cursor: pointer;\n",
              "      display: none;\n",
              "      fill: #1967D2;\n",
              "      height: 32px;\n",
              "      padding: 0 0 0 0;\n",
              "      width: 32px;\n",
              "    }\n",
              "\n",
              "    .colab-df-convert:hover {\n",
              "      background-color: #E2EBFA;\n",
              "      box-shadow: 0px 1px 2px rgba(60, 64, 67, 0.3), 0px 1px 3px 1px rgba(60, 64, 67, 0.15);\n",
              "      fill: #174EA6;\n",
              "    }\n",
              "\n",
              "    [theme=dark] .colab-df-convert {\n",
              "      background-color: #3B4455;\n",
              "      fill: #D2E3FC;\n",
              "    }\n",
              "\n",
              "    [theme=dark] .colab-df-convert:hover {\n",
              "      background-color: #434B5C;\n",
              "      box-shadow: 0px 1px 3px 1px rgba(0, 0, 0, 0.15);\n",
              "      filter: drop-shadow(0px 1px 2px rgba(0, 0, 0, 0.3));\n",
              "      fill: #FFFFFF;\n",
              "    }\n",
              "  </style>\n",
              "\n",
              "      <script>\n",
              "        const buttonEl =\n",
              "          document.querySelector('#df-078046c0-48f6-480d-817c-9febffdbfbff button.colab-df-convert');\n",
              "        buttonEl.style.display =\n",
              "          google.colab.kernel.accessAllowed ? 'block' : 'none';\n",
              "\n",
              "        async function convertToInteractive(key) {\n",
              "          const element = document.querySelector('#df-078046c0-48f6-480d-817c-9febffdbfbff');\n",
              "          const dataTable =\n",
              "            await google.colab.kernel.invokeFunction('convertToInteractive',\n",
              "                                                     [key], {});\n",
              "          if (!dataTable) return;\n",
              "\n",
              "          const docLinkHtml = 'Like what you see? Visit the ' +\n",
              "            '<a target=\"_blank\" href=https://colab.research.google.com/notebooks/data_table.ipynb>data table notebook</a>'\n",
              "            + ' to learn more about interactive tables.';\n",
              "          element.innerHTML = '';\n",
              "          dataTable['output_type'] = 'display_data';\n",
              "          await google.colab.output.renderOutput(dataTable, element);\n",
              "          const docLink = document.createElement('div');\n",
              "          docLink.innerHTML = docLinkHtml;\n",
              "          element.appendChild(docLink);\n",
              "        }\n",
              "      </script>\n",
              "    </div>\n",
              "  </div>\n",
              "  "
            ]
          },
          "metadata": {},
          "execution_count": 8
        }
      ]
    },
    {
      "cell_type": "code",
      "execution_count": 9,
      "metadata": {
        "id": "ZSnMCmCw2eKX"
      },
      "outputs": [],
      "source": [
        "#Assign variables train_X and train_Y for the model\n",
        "train_X = tf.stack(values=(dom_tagged['sld_one_hot']), axis=0)\n",
        "train_Y = tf.convert_to_tensor(dom_tagged[\"dangerous\"], dtype=tf.float16)"
      ]
    },
    {
      "cell_type": "code",
      "execution_count": 10,
      "metadata": {
        "colab": {
          "base_uri": "https://localhost:8080/"
        },
        "id": "nv-w89d6dURX",
        "outputId": "651f33b3-838b-4e01-ce8f-2220b29660db"
      },
      "outputs": [
        {
          "output_type": "stream",
          "name": "stdout",
          "text": [
            "Training data shape :  (574628, 63, 37) (574628,) (63, 37)\n"
          ]
        }
      ],
      "source": [
        "#Check structure of dataset\n",
        "print('Training data shape : ', train_X.shape, train_Y.shape, train_X[0].shape)"
      ]
    },
    {
      "cell_type": "code",
      "execution_count": 11,
      "metadata": {
        "id": "A2T6jMhQF0sN"
      },
      "outputs": [],
      "source": [
        "#https://www.anycodings.com/1questions/2398077/how-to-perform-sklearn-style-train-test-split-on-feature-and-label-tensors-using-built-in-tensorflow-methods\n",
        "#Function to create train, val and tests partitions with tensors.\n",
        "from typing import Tuple\n",
        "\n",
        "def split_train_test(features: tf.Tensor,\n",
        "                     labels: tf.Tensor,\n",
        "                     test_size: float,\n",
        "                     random_state: int = 1729) -> Tuple[tf.Tensor, tf.Tensor, tf.Tensor, tf.Tensor]:\n",
        "\n",
        "    # Generate random masks\n",
        "    random = tf.random.uniform(shape=(tf.shape(features)[0],), seed=random_state)\n",
        "    train_mask = random >= test_size\n",
        "    test_mask = random < test_size\n",
        "\n",
        "    # Gather values\n",
        "    train_features, train_labels = tf.boolean_mask(features, mask=train_mask), tf.boolean_mask(labels, mask=train_mask)\n",
        "    test_features, test_labels = tf.boolean_mask(features, mask=test_mask), tf.boolean_mask(labels, mask=test_mask)\n",
        "\n",
        "    return train_features, test_features, train_labels, test_labels"
      ]
    },
    {
      "cell_type": "code",
      "execution_count": 12,
      "metadata": {
        "id": "uhPFZpNiEr1r"
      },
      "outputs": [],
      "source": [
        "#Create training and test model partitions\n",
        "train_X, test_X, train_Y,  test_Y = split_train_test(train_X, train_Y, test_size=0.2, random_state=13)"
      ]
    },
    {
      "cell_type": "code",
      "execution_count": 13,
      "metadata": {
        "colab": {
          "base_uri": "https://localhost:8080/"
        },
        "id": "bCH1FmDNw6Yf",
        "outputId": "9a227b8b-00b6-4c3a-f09b-8ad44cfa0bba"
      },
      "outputs": [
        {
          "output_type": "stream",
          "name": "stdout",
          "text": [
            "(459600, 63, 37) (115028, 63, 37) (459600,) (115028,)\n"
          ]
        }
      ],
      "source": [
        "#Check shape again\n",
        "print(train_X.shape, test_X.shape, train_Y.shape, test_Y.shape)"
      ]
    },
    {
      "cell_type": "code",
      "execution_count": 14,
      "metadata": {
        "id": "gFqEIh2MpBmg"
      },
      "outputs": [],
      "source": [
        "import keras\n",
        "from keras.models import Sequential,Model\n",
        "from keras import Input\n",
        "from keras.layers import Dense, Dropout, Flatten\n",
        "from keras.layers import Conv1D, MaxPooling1D"
      ]
    },
    {
      "cell_type": "code",
      "execution_count": 15,
      "metadata": {
        "id": "GMB0HHhJzYvH"
      },
      "outputs": [],
      "source": [
        "model = Sequential()\n",
        "model.add(Conv1D(50, 5, activation='relu', input_shape=(63,37)))\n",
        "model.add(MaxPooling1D(2))\n",
        "model.add(Flatten())\n",
        "model.add(Dense(30, activation='relu'))\n",
        "model.add(Dense(20, activation='relu'))\n",
        "model.add(Dense(2, activation='softmax'))"
      ]
    },
    {
      "cell_type": "code",
      "execution_count": 16,
      "metadata": {
        "colab": {
          "base_uri": "https://localhost:8080/"
        },
        "id": "rbIuDhb09noR",
        "outputId": "87de63b4-3650-4df0-e819-b300a881abc6"
      },
      "outputs": [
        {
          "output_type": "stream",
          "name": "stdout",
          "text": [
            "Model: \"sequential\"\n",
            "_________________________________________________________________\n",
            " Layer (type)                Output Shape              Param #   \n",
            "=================================================================\n",
            " conv1d (Conv1D)             (None, 59, 50)            9300      \n",
            "                                                                 \n",
            " max_pooling1d (MaxPooling1D  (None, 29, 50)           0         \n",
            " )                                                               \n",
            "                                                                 \n",
            " flatten (Flatten)           (None, 1450)              0         \n",
            "                                                                 \n",
            " dense (Dense)               (None, 30)                43530     \n",
            "                                                                 \n",
            " dense_1 (Dense)             (None, 20)                620       \n",
            "                                                                 \n",
            " dense_2 (Dense)             (None, 2)                 42        \n",
            "                                                                 \n",
            "=================================================================\n",
            "Total params: 53,492\n",
            "Trainable params: 53,492\n",
            "Non-trainable params: 0\n",
            "_________________________________________________________________\n",
            "None\n"
          ]
        }
      ],
      "source": [
        "print(model.summary())"
      ]
    },
    {
      "cell_type": "code",
      "execution_count": 17,
      "metadata": {
        "id": "M9Q7rqRkhGw3"
      },
      "outputs": [],
      "source": [
        "#Compile CNN\n",
        "model.compile(loss='sparse_categorical_crossentropy', optimizer='adam', metrics=['accuracy'])"
      ]
    },
    {
      "cell_type": "code",
      "execution_count": 18,
      "metadata": {
        "colab": {
          "base_uri": "https://localhost:8080/"
        },
        "id": "uIEaJPxxUJnR",
        "outputId": "2615e9f2-5367-41e9-d3d0-c409f7b1b4c7"
      },
      "outputs": [
        {
          "output_type": "stream",
          "name": "stdout",
          "text": [
            "Epoch 1/10\n",
            "7182/7182 [==============================] - 39s 4ms/step - loss: 0.2939 - accuracy: 0.8714 - val_loss: 0.2650 - val_accuracy: 0.8836\n",
            "Epoch 2/10\n",
            "7182/7182 [==============================] - 31s 4ms/step - loss: 0.2537 - accuracy: 0.8906 - val_loss: 0.2507 - val_accuracy: 0.8917\n",
            "Epoch 3/10\n",
            "7182/7182 [==============================] - 30s 4ms/step - loss: 0.2431 - accuracy: 0.8954 - val_loss: 0.2479 - val_accuracy: 0.8933\n",
            "Epoch 4/10\n",
            "7182/7182 [==============================] - 30s 4ms/step - loss: 0.2366 - accuracy: 0.8985 - val_loss: 0.2455 - val_accuracy: 0.8943\n",
            "Epoch 5/10\n",
            "7182/7182 [==============================] - 29s 4ms/step - loss: 0.2315 - accuracy: 0.9011 - val_loss: 0.2468 - val_accuracy: 0.8947\n",
            "Epoch 6/10\n",
            "7182/7182 [==============================] - 29s 4ms/step - loss: 0.2278 - accuracy: 0.9027 - val_loss: 0.2449 - val_accuracy: 0.8953\n",
            "Epoch 7/10\n",
            "7182/7182 [==============================] - 29s 4ms/step - loss: 0.2247 - accuracy: 0.9043 - val_loss: 0.2448 - val_accuracy: 0.8953\n",
            "Epoch 8/10\n",
            "7182/7182 [==============================] - 29s 4ms/step - loss: 0.2215 - accuracy: 0.9058 - val_loss: 0.2455 - val_accuracy: 0.8951\n",
            "Epoch 9/10\n",
            "7182/7182 [==============================] - 31s 4ms/step - loss: 0.2188 - accuracy: 0.9071 - val_loss: 0.2492 - val_accuracy: 0.8938\n",
            "Epoch 10/10\n",
            "7182/7182 [==============================] - 31s 4ms/step - loss: 0.2163 - accuracy: 0.9081 - val_loss: 0.2475 - val_accuracy: 0.8951\n"
          ]
        }
      ],
      "source": [
        "#Train model\n",
        "history = model.fit(train_X, train_Y, validation_data=(test_X, test_Y), epochs=10, batch_size=64)"
      ]
    },
    {
      "cell_type": "markdown",
      "source": [
        "29s 4ms/step - loss: 0.2013 - accuracy: 0.9162 - val_loss: 0.2607 - val_accuracy: 0.8930"
      ],
      "metadata": {
        "id": "6-6cm3i828oc"
      }
    },
    {
      "cell_type": "code",
      "source": [
        "#Plot accuracy and validation loss of the model\n",
        "accuracy = history.history['accuracy']\n",
        "val_accuracy = history.history['accuracy']\n",
        "loss = history.history['loss']\n",
        "val_loss = history.history['val_loss']\n",
        "epochs = range(len(accuracy))\n",
        "plt.plot(epochs, accuracy, 'bo', label='Training accuracy')\n",
        "plt.plot(epochs, val_accuracy, 'b', label='Validation accuracy')\n",
        "plt.title('Training and validation accuracy')\n",
        "plt.xlabel('Epoch')\n",
        "plt.ylabel('Accuracy')\n",
        "plt.ylim([0.5, 1])\n",
        "plt.legend(loc='lower right')\n",
        "plt.figure()\n",
        "\n",
        "plt.plot(epochs, loss, 'bo', label='Training loss')\n",
        "plt.plot(epochs, val_loss, 'b', label='Validation loss')\n",
        "plt.title('Training and validation loss')\n",
        "plt.xlabel('Epoch')\n",
        "plt.ylabel('Loss')\n",
        "plt.legend()\n",
        "plt.show()\n",
        "\n",
        "test_eval = model.evaluate(test_X, test_Y, verbose=1)\n",
        "print('Test loss:', test_eval[0])\n",
        "print('Test accuracy:', test_eval[1])"
      ],
      "metadata": {
        "colab": {
          "base_uri": "https://localhost:8080/",
          "height": 625
        },
        "id": "13KHvUy7rKlX",
        "outputId": "aaa3b3a3-cd77-46c9-c668-d7d7cf97e962"
      },
      "execution_count": 19,
      "outputs": [
        {
          "output_type": "display_data",
          "data": {
            "text/plain": [
              "<Figure size 432x288 with 1 Axes>"
            ],
            "image/png": "[encoded data removed]"
          },
          "metadata": {
            "needs_background": "light"
          }
        },
        {
          "output_type": "display_data",
          "data": {
            "text/plain": [
              "<Figure size 432x288 with 1 Axes>"
            ],
            "image/png": "[encoded data removed]"
          },
          "metadata": {
            "needs_background": "light"
          }
        },
        {
          "output_type": "stream",
          "name": "stdout",
          "text": [
            "3595/3595 [==============================] - 10s 3ms/step - loss: 0.2475 - accuracy: 0.8951\n",
            "Test loss: 0.24747614562511444\n",
            "Test accuracy: 0.8951298594474792\n"
          ]
        }
      ]
    },
    {
      "cell_type": "code",
      "execution_count": 20,
      "metadata": {
        "colab": {
          "base_uri": "https://localhost:8080/"
        },
        "id": "JHONx03FHjDe",
        "outputId": "d17bcd14-cfdb-4d2a-d072-ed905dbda0ce"
      },
      "outputs": [
        {
          "output_type": "stream",
          "name": "stderr",
          "text": [
            "WARNING:absl:Found untraced functions such as _jit_compiled_convolution_op while saving (showing 1 of 1). These functions will not be directly callable after loading.\n"
          ]
        }
      ],
      "source": [
        "#Save model\n",
        "model.save('model1')"
      ]
    },
    {
      "cell_type": "code",
      "source": [
        "#Shell comand to get newly registered domains and safe them on a zip with yesterday date\n",
        "%%shell\n",
        "datedl=$(date --date '1 days ago' '+%Y-%m-%d')\n",
        "zip=\"$datedl.zip\"\n",
        "b64=$(echo $zip | base64)\n",
        "\n",
        "ok=$(expr $b64 : \"\\(.*\\).$\")\n",
        "\n",
        "urlbase=\"https://whoisds.com//whois-database/newly-registered-domains/\"\n",
        "urlend=\"=/nrd\"\n",
        "\n",
        "allurl=\"$urlbase$ok$urlend\"\n",
        "\n",
        "wget -O $zip $allurl"
      ],
      "metadata": {
        "colab": {
          "base_uri": "https://localhost:8080/"
        },
        "id": "NMV--tnLfYKw",
        "outputId": "95e6424b-8267-4d3b-ce48-de162b6fc233"
      },
      "execution_count": 26,
      "outputs": [
        {
          "output_type": "stream",
          "name": "stdout",
          "text": [
            "--2022-11-18 16:27:18--  https://whoisds.com//whois-database/newly-registered-domains/MjAyMi0xMS0xNi56aXA=/nrd\n",
            "Resolving whoisds.com (whoisds.com)... 103.242.119.24\n",
            "Connecting to whoisds.com (whoisds.com)|103.242.119.24|:443... connected.\n",
            "HTTP request sent, awaiting response... 200 OK\n",
            "Length: 834438 (815K) [application/octet-stream]\n",
            "Saving to: ‘2022-11-16.zip’\n",
            "\n",
            "2022-11-16.zip      100%[===================>] 814.88K   965KB/s    in 0.8s    \n",
            "\n",
            "2022-11-18 16:27:20 (965 KB/s) - ‘2022-11-16.zip’ saved [834438/834438]\n",
            "\n"
          ]
        },
        {
          "output_type": "execute_result",
          "data": {
            "text/plain": []
          },
          "metadata": {},
          "execution_count": 26
        }
      ]
    },
    {
      "cell_type": "code",
      "source": [
        "#Function to split the domain, into tld, sld and third. Also preprocess dataset\n",
        "#Input: dataframe\n",
        "#Output: dataframe (clean)\n",
        "def split_clean_domain(data):\n",
        "  #Add '.' if there's only one '.'. To avoid errors at spliting sld.\n",
        "  data['dom_name_aux'] = data.dom_name.apply(lambda x: '.' + x if len(re.findall('[.]', x)) <= 1 else x)\n",
        "  #Split domain into tld, sld and thirdld\n",
        "  data[['sld', 'tld']] = data['dom_name_aux'].str.rsplit('.', 1, expand=True)\n",
        "  data[['thirdld', 'sld']] = data['sld'].str.split('.', 1, expand=True)\n",
        "  data.loc[data['sld'].isnull(), 'aux'] = data['thirdld']\n",
        "  data.loc[data['sld'].isnull(), 'thirdld'] = data['sld']\n",
        "  data.loc[data['sld'].isnull(), 'sld'] = data['aux']\n",
        "  data['sld'] = data['sld'].str.lower()\n",
        "  #Clean sld for the one_hot_encoding\n",
        "  data['sld_clean'] = data['sld'].str.replace(r'[^-0-9a-zA-Z]', '#', regex=True)\n",
        "  data['sld_clean'] = data['sld_clean'].str.pad(63, side='left', fillchar='#')\n",
        "  #Delete not needed columns\n",
        "  data.pop('dom_name_aux')\n",
        "  data.pop('aux')\n",
        "  data.pop('thirdld')\n",
        "  data.pop('tld')\n",
        "  #Delete rows with sld not valid\n",
        "  data = data[data['sld_clean'].str.len() <= 63]\n",
        "  return"
      ],
      "metadata": {
        "id": "Fk0bMks2X64c"
      },
      "execution_count": 22,
      "outputs": []
    },
    {
      "cell_type": "code",
      "source": [
        "#Read newly registered domains\n",
        "from datetime import datetime, timedelta\n",
        "yesterday = datetime.now() - timedelta(1)\n",
        "zip_name = datetime.strftime(yesterday, '%Y-%m-%d') + '.zip'\n",
        "print(zip_name)\n",
        "#Read recent_domains\n",
        "dom_recent = pd.read_csv(zip_name, sep=\" \", header=None, nrows=50000)\n",
        "dom_recent.columns = [\"dom_name\"]\n",
        "#Clean recent domains\n",
        "split_clean_domain(dom_recent)\n",
        "dom_recent = dom_recent[dom_recent['sld_clean'].str.len() <= 63] #delete slds > 63\n",
        "dom_recent.head()"
      ],
      "metadata": {
        "id": "mTcROBomhax2",
        "colab": {
          "base_uri": "https://localhost:8080/",
          "height": 224
        },
        "outputId": "e0147d7b-4933-471b-b5f4-5c03278a5fa4"
      },
      "execution_count": 28,
      "outputs": [
        {
          "output_type": "stream",
          "name": "stdout",
          "text": [
            "2022-11-16.zip\n"
          ]
        },
        {
          "output_type": "execute_result",
          "data": {
            "text/plain": [
              "           dom_name           sld  \\\n",
              "0        1688-0.top        1688-0   \n",
              "1    2323433351.xyz    2323433351   \n",
              "2        4nita.tech         4nita   \n",
              "3  787betturkey.com  787betturkey   \n",
              "4    9000657643.xyz    9000657643   \n",
              "\n",
              "                                           sld_clean  \n",
              "0  ##############################################...  \n",
              "1  ##############################################...  \n",
              "2  ##############################################...  \n",
              "3  ##############################################...  \n",
              "4  ##############################################...  "
            ],
            "text/html": [
              "\n",
              "  <div id=\"df-f25fbad3-451a-4baf-9051-f3d3c5018d44\">\n",
              "    <div class=\"colab-df-container\">\n",
              "      <div>\n",
              "<style scoped>\n",
              "    .dataframe tbody tr th:only-of-type {\n",
              "        vertical-align: middle;\n",
              "    }\n",
              "\n",
              "    .dataframe tbody tr th {\n",
              "        vertical-align: top;\n",
              "    }\n",
              "\n",
              "    .dataframe thead th {\n",
              "        text-align: right;\n",
              "    }\n",
              "</style>\n",
              "<table border=\"1\" class=\"dataframe\">\n",
              "  <thead>\n",
              "    <tr style=\"text-align: right;\">\n",
              "      <th></th>\n",
              "      <th>dom_name</th>\n",
              "      <th>sld</th>\n",
              "      <th>sld_clean</th>\n",
              "    </tr>\n",
              "  </thead>\n",
              "  <tbody>\n",
              "    <tr>\n",
              "      <th>0</th>\n",
              "      <td>1688-0.top</td>\n",
              "      <td>1688-0</td>\n",
              "      <td>##############################################...</td>\n",
              "    </tr>\n",
              "    <tr>\n",
              "      <th>1</th>\n",
              "      <td>2323433351.xyz</td>\n",
              "      <td>2323433351</td>\n",
              "      <td>##############################################...</td>\n",
              "    </tr>\n",
              "    <tr>\n",
              "      <th>2</th>\n",
              "      <td>4nita.tech</td>\n",
              "      <td>4nita</td>\n",
              "      <td>##############################################...</td>\n",
              "    </tr>\n",
              "    <tr>\n",
              "      <th>3</th>\n",
              "      <td>787betturkey.com</td>\n",
              "      <td>787betturkey</td>\n",
              "      <td>##############################################...</td>\n",
              "    </tr>\n",
              "    <tr>\n",
              "      <th>4</th>\n",
              "      <td>9000657643.xyz</td>\n",
              "      <td>9000657643</td>\n",
              "      <td>##############################################...</td>\n",
              "    </tr>\n",
              "  </tbody>\n",
              "</table>\n",
              "</div>\n",
              "      <button class=\"colab-df-convert\" onclick=\"convertToInteractive('df-f25fbad3-451a-4baf-9051-f3d3c5018d44')\"\n",
              "              title=\"Convert this dataframe to an interactive table.\"\n",
              "              style=\"display:none;\">\n",
              "        \n",
              "  <svg xmlns=\"http://www.w3.org/2000/svg\" height=\"24px\"viewBox=\"0 0 24 24\"\n",
              "       width=\"24px\">\n",
              "    <path d=\"M0 0h24v24H0V0z\" fill=\"none\"/>\n",
              "    <path d=\"M18.56 5.44l.94 2.06.94-2.06 2.06-.94-2.06-.94-.94-2.06-.94 2.06-2.06.94zm-11 1L8.5 8.5l.94-2.06 2.06-.94-2.06-.94L8.5 2.5l-.94 2.06-2.06.94zm10 10l.94 2.06.94-2.06 2.06-.94-2.06-.94-.94-2.06-.94 2.06-2.06.94z\"/><path d=\"M17.41 7.96l-1.37-1.37c-.4-.4-.92-.59-1.43-.59-.52 0-1.04.2-1.43.59L10.3 9.45l-7.72 7.72c-.78.78-.78 2.05 0 2.83L4 21.41c.39.39.9.59 1.41.59.51 0 1.02-.2 1.41-.59l7.78-7.78 2.81-2.81c.8-.78.8-2.07 0-2.86zM5.41 20L4 18.59l7.72-7.72 1.47 1.35L5.41 20z\"/>\n",
              "  </svg>\n",
              "      </button>\n",
              "      \n",
              "  <style>\n",
              "    .colab-df-container {\n",
              "      display:flex;\n",
              "      flex-wrap:wrap;\n",
              "      gap: 12px;\n",
              "    }\n",
              "\n",
              "    .colab-df-convert {\n",
              "      background-color: #E8F0FE;\n",
              "      border: none;\n",
              "      border-radius: 50%;\n",
              "      cursor: pointer;\n",
              "      display: none;\n",
              "      fill: #1967D2;\n",
              "      height: 32px;\n",
              "      padding: 0 0 0 0;\n",
              "      width: 32px;\n",
              "    }\n",
              "\n",
              "    .colab-df-convert:hover {\n",
              "      background-color: #E2EBFA;\n",
              "      box-shadow: 0px 1px 2px rgba(60, 64, 67, 0.3), 0px 1px 3px 1px rgba(60, 64, 67, 0.15);\n",
              "      fill: #174EA6;\n",
              "    }\n",
              "\n",
              "    [theme=dark] .colab-df-convert {\n",
              "      background-color: #3B4455;\n",
              "      fill: #D2E3FC;\n",
              "    }\n",
              "\n",
              "    [theme=dark] .colab-df-convert:hover {\n",
              "      background-color: #434B5C;\n",
              "      box-shadow: 0px 1px 3px 1px rgba(0, 0, 0, 0.15);\n",
              "      filter: drop-shadow(0px 1px 2px rgba(0, 0, 0, 0.3));\n",
              "      fill: #FFFFFF;\n",
              "    }\n",
              "  </style>\n",
              "\n",
              "      <script>\n",
              "        const buttonEl =\n",
              "          document.querySelector('#df-f25fbad3-451a-4baf-9051-f3d3c5018d44 button.colab-df-convert');\n",
              "        buttonEl.style.display =\n",
              "          google.colab.kernel.accessAllowed ? 'block' : 'none';\n",
              "\n",
              "        async function convertToInteractive(key) {\n",
              "          const element = document.querySelector('#df-f25fbad3-451a-4baf-9051-f3d3c5018d44');\n",
              "          const dataTable =\n",
              "            await google.colab.kernel.invokeFunction('convertToInteractive',\n",
              "                                                     [key], {});\n",
              "          if (!dataTable) return;\n",
              "\n",
              "          const docLinkHtml = 'Like what you see? Visit the ' +\n",
              "            '<a target=\"_blank\" href=https://colab.research.google.com/notebooks/data_table.ipynb>data table notebook</a>'\n",
              "            + ' to learn more about interactive tables.';\n",
              "          element.innerHTML = '';\n",
              "          dataTable['output_type'] = 'display_data';\n",
              "          await google.colab.output.renderOutput(dataTable, element);\n",
              "          const docLink = document.createElement('div');\n",
              "          docLink.innerHTML = docLinkHtml;\n",
              "          element.appendChild(docLink);\n",
              "        }\n",
              "      </script>\n",
              "    </div>\n",
              "  </div>\n",
              "  "
            ]
          },
          "metadata": {},
          "execution_count": 28
        }
      ]
    },
    {
      "cell_type": "code",
      "source": [
        "#One hot encode for prediction recent domains\n",
        "onehotencode_column(dom_recent)\n",
        "pred_X = tf.stack(values=(dom_recent['sld_one_hot']), axis=0)"
      ],
      "metadata": {
        "id": "AeNGXjboiVXG"
      },
      "execution_count": 29,
      "outputs": []
    },
    {
      "cell_type": "code",
      "source": [
        "#Prediction\n",
        "pred = model.predict(pred_X, batch_size=32)\n",
        "#Assign prediction to the dataframe\n",
        "dom_recent['dangerous(%)'] = pred[:,1]*100"
      ],
      "metadata": {
        "colab": {
          "base_uri": "https://localhost:8080/"
        },
        "id": "KZhcb8iLiENa",
        "outputId": "7aa7e3df-d28c-4351-9baf-8aad00be517c"
      },
      "execution_count": 30,
      "outputs": [
        {
          "output_type": "stream",
          "name": "stdout",
          "text": [
            "1563/1563 [==============================] - 3s 2ms/step\n"
          ]
        }
      ]
    },
    {
      "cell_type": "code",
      "source": [
        "dom_recent.head()"
      ],
      "metadata": {
        "colab": {
          "base_uri": "https://localhost:8080/",
          "height": 206
        },
        "id": "3030o5oflFO6",
        "outputId": "3297c204-6e07-48bb-8d2f-6485fd5ea723"
      },
      "execution_count": 31,
      "outputs": [
        {
          "output_type": "execute_result",
          "data": {
            "text/plain": [
              "           dom_name           sld  \\\n",
              "0        1688-0.top        1688-0   \n",
              "1    2323433351.xyz    2323433351   \n",
              "2        4nita.tech         4nita   \n",
              "3  787betturkey.com  787betturkey   \n",
              "4    9000657643.xyz    9000657643   \n",
              "\n",
              "                                           sld_clean  \\\n",
              "0  ##############################################...   \n",
              "1  ##############################################...   \n",
              "2  ##############################################...   \n",
              "3  ##############################################...   \n",
              "4  ##############################################...   \n",
              "\n",
              "                                         sld_one_hot  dangerous(%)  \n",
              "0  ((tf.Tensor(0.0, shape=(), dtype=float16), tf....     92.973213  \n",
              "1  ((tf.Tensor(0.0, shape=(), dtype=float16), tf....     97.139908  \n",
              "2  ((tf.Tensor(0.0, shape=(), dtype=float16), tf....     56.633038  \n",
              "3  ((tf.Tensor(0.0, shape=(), dtype=float16), tf....     88.693504  \n",
              "4  ((tf.Tensor(0.0, shape=(), dtype=float16), tf....     99.799171  "
            ],
            "text/html": [
              "\n",
              "  <div id=\"df-5d3de5df-1f9d-468a-b655-3c81ada88869\">\n",
              "    <div class=\"colab-df-container\">\n",
              "      <div>\n",
              "<style scoped>\n",
              "    .dataframe tbody tr th:only-of-type {\n",
              "        vertical-align: middle;\n",
              "    }\n",
              "\n",
              "    .dataframe tbody tr th {\n",
              "        vertical-align: top;\n",
              "    }\n",
              "\n",
              "    .dataframe thead th {\n",
              "        text-align: right;\n",
              "    }\n",
              "</style>\n",
              "<table border=\"1\" class=\"dataframe\">\n",
              "  <thead>\n",
              "    <tr style=\"text-align: right;\">\n",
              "      <th></th>\n",
              "      <th>dom_name</th>\n",
              "      <th>sld</th>\n",
              "      <th>sld_clean</th>\n",
              "      <th>sld_one_hot</th>\n",
              "      <th>dangerous(%)</th>\n",
              "    </tr>\n",
              "  </thead>\n",
              "  <tbody>\n",
              "    <tr>\n",
              "      <th>0</th>\n",
              "      <td>1688-0.top</td>\n",
              "      <td>1688-0</td>\n",
              "      <td>##############################################...</td>\n",
              "      <td>((tf.Tensor(0.0, shape=(), dtype=float16), tf....</td>\n",
              "      <td>92.973213</td>\n",
              "    </tr>\n",
              "    <tr>\n",
              "      <th>1</th>\n",
              "      <td>2323433351.xyz</td>\n",
              "      <td>2323433351</td>\n",
              "      <td>##############################################...</td>\n",
              "      <td>((tf.Tensor(0.0, shape=(), dtype=float16), tf....</td>\n",
              "      <td>97.139908</td>\n",
              "    </tr>\n",
              "    <tr>\n",
              "      <th>2</th>\n",
              "      <td>4nita.tech</td>\n",
              "      <td>4nita</td>\n",
              "      <td>##############################################...</td>\n",
              "      <td>((tf.Tensor(0.0, shape=(), dtype=float16), tf....</td>\n",
              "      <td>56.633038</td>\n",
              "    </tr>\n",
              "    <tr>\n",
              "      <th>3</th>\n",
              "      <td>787betturkey.com</td>\n",
              "      <td>787betturkey</td>\n",
              "      <td>##############################################...</td>\n",
              "      <td>((tf.Tensor(0.0, shape=(), dtype=float16), tf....</td>\n",
              "      <td>88.693504</td>\n",
              "    </tr>\n",
              "    <tr>\n",
              "      <th>4</th>\n",
              "      <td>9000657643.xyz</td>\n",
              "      <td>9000657643</td>\n",
              "      <td>##############################################...</td>\n",
              "      <td>((tf.Tensor(0.0, shape=(), dtype=float16), tf....</td>\n",
              "      <td>99.799171</td>\n",
              "    </tr>\n",
              "  </tbody>\n",
              "</table>\n",
              "</div>\n",
              "      <button class=\"colab-df-convert\" onclick=\"convertToInteractive('df-5d3de5df-1f9d-468a-b655-3c81ada88869')\"\n",
              "              title=\"Convert this dataframe to an interactive table.\"\n",
              "              style=\"display:none;\">\n",
              "        \n",
              "  <svg xmlns=\"http://www.w3.org/2000/svg\" height=\"24px\"viewBox=\"0 0 24 24\"\n",
              "       width=\"24px\">\n",
              "    <path d=\"M0 0h24v24H0V0z\" fill=\"none\"/>\n",
              "    <path d=\"M18.56 5.44l.94 2.06.94-2.06 2.06-.94-2.06-.94-.94-2.06-.94 2.06-2.06.94zm-11 1L8.5 8.5l.94-2.06 2.06-.94-2.06-.94L8.5 2.5l-.94 2.06-2.06.94zm10 10l.94 2.06.94-2.06 2.06-.94-2.06-.94-.94-2.06-.94 2.06-2.06.94z\"/><path d=\"M17.41 7.96l-1.37-1.37c-.4-.4-.92-.59-1.43-.59-.52 0-1.04.2-1.43.59L10.3 9.45l-7.72 7.72c-.78.78-.78 2.05 0 2.83L4 21.41c.39.39.9.59 1.41.59.51 0 1.02-.2 1.41-.59l7.78-7.78 2.81-2.81c.8-.78.8-2.07 0-2.86zM5.41 20L4 18.59l7.72-7.72 1.47 1.35L5.41 20z\"/>\n",
              "  </svg>\n",
              "      </button>\n",
              "      \n",
              "  <style>\n",
              "    .colab-df-container {\n",
              "      display:flex;\n",
              "      flex-wrap:wrap;\n",
              "      gap: 12px;\n",
              "    }\n",
              "\n",
              "    .colab-df-convert {\n",
              "      background-color: #E8F0FE;\n",
              "      border: none;\n",
              "      border-radius: 50%;\n",
              "      cursor: pointer;\n",
              "      display: none;\n",
              "      fill: #1967D2;\n",
              "      height: 32px;\n",
              "      padding: 0 0 0 0;\n",
              "      width: 32px;\n",
              "    }\n",
              "\n",
              "    .colab-df-convert:hover {\n",
              "      background-color: #E2EBFA;\n",
              "      box-shadow: 0px 1px 2px rgba(60, 64, 67, 0.3), 0px 1px 3px 1px rgba(60, 64, 67, 0.15);\n",
              "      fill: #174EA6;\n",
              "    }\n",
              "\n",
              "    [theme=dark] .colab-df-convert {\n",
              "      background-color: #3B4455;\n",
              "      fill: #D2E3FC;\n",
              "    }\n",
              "\n",
              "    [theme=dark] .colab-df-convert:hover {\n",
              "      background-color: #434B5C;\n",
              "      box-shadow: 0px 1px 3px 1px rgba(0, 0, 0, 0.15);\n",
              "      filter: drop-shadow(0px 1px 2px rgba(0, 0, 0, 0.3));\n",
              "      fill: #FFFFFF;\n",
              "    }\n",
              "  </style>\n",
              "\n",
              "      <script>\n",
              "        const buttonEl =\n",
              "          document.querySelector('#df-5d3de5df-1f9d-468a-b655-3c81ada88869 button.colab-df-convert');\n",
              "        buttonEl.style.display =\n",
              "          google.colab.kernel.accessAllowed ? 'block' : 'none';\n",
              "\n",
              "        async function convertToInteractive(key) {\n",
              "          const element = document.querySelector('#df-5d3de5df-1f9d-468a-b655-3c81ada88869');\n",
              "          const dataTable =\n",
              "            await google.colab.kernel.invokeFunction('convertToInteractive',\n",
              "                                                     [key], {});\n",
              "          if (!dataTable) return;\n",
              "\n",
              "          const docLinkHtml = 'Like what you see? Visit the ' +\n",
              "            '<a target=\"_blank\" href=https://colab.research.google.com/notebooks/data_table.ipynb>data table notebook</a>'\n",
              "            + ' to learn more about interactive tables.';\n",
              "          element.innerHTML = '';\n",
              "          dataTable['output_type'] = 'display_data';\n",
              "          await google.colab.output.renderOutput(dataTable, element);\n",
              "          const docLink = document.createElement('div');\n",
              "          docLink.innerHTML = docLinkHtml;\n",
              "          element.appendChild(docLink);\n",
              "        }\n",
              "      </script>\n",
              "    </div>\n",
              "  </div>\n",
              "  "
            ]
          },
          "metadata": {},
          "execution_count": 31
        }
      ]
    },
    {
      "cell_type": "code",
      "source": [
        "#Save as csv the predictions of the most recent domains registered.\n",
        "dom_recent[['dom_name', 'sld', 'dangerous(%)']].to_csv(\"recent_domains_prediction.csv\", index=False)"
      ],
      "metadata": {
        "id": "Lm8vW03FsXHo"
      },
      "execution_count": 32,
      "outputs": []
    },
    {
      "cell_type": "code",
      "source": [
        "#Function to predict the % for a list of domains to be dangerous.\n",
        "#Input: domains: list of domains, model: trained model\n",
        "#Output: dataframe with 3 columns: dom_name, sld, % dangerous (dangerous(%))\n",
        "def domain_prediction(domains, model):\n",
        "  df = pd.DataFrame(data=domains, columns=['dom_name'])\n",
        "  split_clean_domain(df)\n",
        "  onehotencode_column(df)\n",
        "  pred = model.predict(tf.stack(values=(df['sld_one_hot']), axis=0), batch_size=32)\n",
        "  df.pop('sld_clean')\n",
        "  df.pop('sld_one_hot')\n",
        "  df['dangerous(%)'] = pred[:,1]*100\n",
        "  return df"
      ],
      "metadata": {
        "id": "W_7ILuqO-0sa"
      },
      "execution_count": 33,
      "outputs": []
    },
    {
      "cell_type": "code",
      "source": [
        "#Personalized prediction: Assign a domain name or array of domains to dom_pred\n",
        "dom_pred = [\"google.com\", \"go0gle.com\", \"https://www.uoc.edu/\", \"netflix.com\", \"primevideo.com\", \"adams.wada-ama.org\", \"connect.garmin.com\", \"web.whatsapp.com\",\n",
        "            \"1688.com\", \"naohvspwc.info\", \"vboypro16.firebaseapp.com\", \"vote-academymoderators.com\", \"web-online-sup.com\"]\n",
        "df_pred = domain_prediction(dom_pred, model)\n",
        "df_pred.head(20)"
      ],
      "metadata": {
        "colab": {
          "base_uri": "https://localhost:8080/",
          "height": 474
        },
        "id": "dH3Ck6kvsuU4",
        "outputId": "b7467d5d-5a05-4973-8991-01ba7dd70807"
      },
      "execution_count": 34,
      "outputs": [
        {
          "output_type": "stream",
          "name": "stdout",
          "text": [
            "1/1 [==============================] - 0s 32ms/step\n"
          ]
        },
        {
          "output_type": "execute_result",
          "data": {
            "text/plain": [
              "                      dom_name                     sld  dangerous(%)\n",
              "0                   google.com                  google      4.205112\n",
              "1                   go0gle.com                  go0gle      9.162738\n",
              "2         https://www.uoc.edu/                     uoc      0.228243\n",
              "3                  netflix.com                 netflix      3.558344\n",
              "4               primevideo.com              primevideo      0.566379\n",
              "5           adams.wada-ama.org                wada-ama      1.655113\n",
              "6           connect.garmin.com                  garmin      1.855898\n",
              "7             web.whatsapp.com                whatsapp      2.136443\n",
              "8                     1688.com                    1688     38.339458\n",
              "9               naohvspwc.info               naohvspwc     99.056740\n",
              "10   vboypro16.firebaseapp.com             firebaseapp      2.507057\n",
              "11  vote-academymoderators.com  vote-academymoderators     13.889907\n",
              "12          web-online-sup.com          web-online-sup     22.389463"
            ],
            "text/html": [
              "\n",
              "  <div id=\"df-126ec25e-67b8-43ba-a914-27ac1a0a7a49\">\n",
              "    <div class=\"colab-df-container\">\n",
              "      <div>\n",
              "<style scoped>\n",
              "    .dataframe tbody tr th:only-of-type {\n",
              "        vertical-align: middle;\n",
              "    }\n",
              "\n",
              "    .dataframe tbody tr th {\n",
              "        vertical-align: top;\n",
              "    }\n",
              "\n",
              "    .dataframe thead th {\n",
              "        text-align: right;\n",
              "    }\n",
              "</style>\n",
              "<table border=\"1\" class=\"dataframe\">\n",
              "  <thead>\n",
              "    <tr style=\"text-align: right;\">\n",
              "      <th></th>\n",
              "      <th>dom_name</th>\n",
              "      <th>sld</th>\n",
              "      <th>dangerous(%)</th>\n",
              "    </tr>\n",
              "  </thead>\n",
              "  <tbody>\n",
              "    <tr>\n",
              "      <th>0</th>\n",
              "      <td>google.com</td>\n",
              "      <td>google</td>\n",
              "      <td>4.205112</td>\n",
              "    </tr>\n",
              "    <tr>\n",
              "      <th>1</th>\n",
              "      <td>go0gle.com</td>\n",
              "      <td>go0gle</td>\n",
              "      <td>9.162738</td>\n",
              "    </tr>\n",
              "    <tr>\n",
              "      <th>2</th>\n",
              "      <td>https://www.uoc.edu/</td>\n",
              "      <td>uoc</td>\n",
              "      <td>0.228243</td>\n",
              "    </tr>\n",
              "    <tr>\n",
              "      <th>3</th>\n",
              "      <td>netflix.com</td>\n",
              "      <td>netflix</td>\n",
              "      <td>3.558344</td>\n",
              "    </tr>\n",
              "    <tr>\n",
              "      <th>4</th>\n",
              "      <td>primevideo.com</td>\n",
              "      <td>primevideo</td>\n",
              "      <td>0.566379</td>\n",
              "    </tr>\n",
              "    <tr>\n",
              "      <th>5</th>\n",
              "      <td>adams.wada-ama.org</td>\n",
              "      <td>wada-ama</td>\n",
              "      <td>1.655113</td>\n",
              "    </tr>\n",
              "    <tr>\n",
              "      <th>6</th>\n",
              "      <td>connect.garmin.com</td>\n",
              "      <td>garmin</td>\n",
              "      <td>1.855898</td>\n",
              "    </tr>\n",
              "    <tr>\n",
              "      <th>7</th>\n",
              "      <td>web.whatsapp.com</td>\n",
              "      <td>whatsapp</td>\n",
              "      <td>2.136443</td>\n",
              "    </tr>\n",
              "    <tr>\n",
              "      <th>8</th>\n",
              "      <td>1688.com</td>\n",
              "      <td>1688</td>\n",
              "      <td>38.339458</td>\n",
              "    </tr>\n",
              "    <tr>\n",
              "      <th>9</th>\n",
              "      <td>naohvspwc.info</td>\n",
              "      <td>naohvspwc</td>\n",
              "      <td>99.056740</td>\n",
              "    </tr>\n",
              "    <tr>\n",
              "      <th>10</th>\n",
              "      <td>vboypro16.firebaseapp.com</td>\n",
              "      <td>firebaseapp</td>\n",
              "      <td>2.507057</td>\n",
              "    </tr>\n",
              "    <tr>\n",
              "      <th>11</th>\n",
              "      <td>vote-academymoderators.com</td>\n",
              "      <td>vote-academymoderators</td>\n",
              "      <td>13.889907</td>\n",
              "    </tr>\n",
              "    <tr>\n",
              "      <th>12</th>\n",
              "      <td>web-online-sup.com</td>\n",
              "      <td>web-online-sup</td>\n",
              "      <td>22.389463</td>\n",
              "    </tr>\n",
              "  </tbody>\n",
              "</table>\n",
              "</div>\n",
              "      <button class=\"colab-df-convert\" onclick=\"convertToInteractive('df-126ec25e-67b8-43ba-a914-27ac1a0a7a49')\"\n",
              "              title=\"Convert this dataframe to an interactive table.\"\n",
              "              style=\"display:none;\">\n",
              "        \n",
              "  <svg xmlns=\"http://www.w3.org/2000/svg\" height=\"24px\"viewBox=\"0 0 24 24\"\n",
              "       width=\"24px\">\n",
              "    <path d=\"M0 0h24v24H0V0z\" fill=\"none\"/>\n",
              "    <path d=\"M18.56 5.44l.94 2.06.94-2.06 2.06-.94-2.06-.94-.94-2.06-.94 2.06-2.06.94zm-11 1L8.5 8.5l.94-2.06 2.06-.94-2.06-.94L8.5 2.5l-.94 2.06-2.06.94zm10 10l.94 2.06.94-2.06 2.06-.94-2.06-.94-.94-2.06-.94 2.06-2.06.94z\"/><path d=\"M17.41 7.96l-1.37-1.37c-.4-.4-.92-.59-1.43-.59-.52 0-1.04.2-1.43.59L10.3 9.45l-7.72 7.72c-.78.78-.78 2.05 0 2.83L4 21.41c.39.39.9.59 1.41.59.51 0 1.02-.2 1.41-.59l7.78-7.78 2.81-2.81c.8-.78.8-2.07 0-2.86zM5.41 20L4 18.59l7.72-7.72 1.47 1.35L5.41 20z\"/>\n",
              "  </svg>\n",
              "      </button>\n",
              "      \n",
              "  <style>\n",
              "    .colab-df-container {\n",
              "      display:flex;\n",
              "      flex-wrap:wrap;\n",
              "      gap: 12px;\n",
              "    }\n",
              "\n",
              "    .colab-df-convert {\n",
              "      background-color: #E8F0FE;\n",
              "      border: none;\n",
              "      border-radius: 50%;\n",
              "      cursor: pointer;\n",
              "      display: none;\n",
              "      fill: #1967D2;\n",
              "      height: 32px;\n",
              "      padding: 0 0 0 0;\n",
              "      width: 32px;\n",
              "    }\n",
              "\n",
              "    .colab-df-convert:hover {\n",
              "      background-color: #E2EBFA;\n",
              "      box-shadow: 0px 1px 2px rgba(60, 64, 67, 0.3), 0px 1px 3px 1px rgba(60, 64, 67, 0.15);\n",
              "      fill: #174EA6;\n",
              "    }\n",
              "\n",
              "    [theme=dark] .colab-df-convert {\n",
              "      background-color: #3B4455;\n",
              "      fill: #D2E3FC;\n",
              "    }\n",
              "\n",
              "    [theme=dark] .colab-df-convert:hover {\n",
              "      background-color: #434B5C;\n",
              "      box-shadow: 0px 1px 3px 1px rgba(0, 0, 0, 0.15);\n",
              "      filter: drop-shadow(0px 1px 2px rgba(0, 0, 0, 0.3));\n",
              "      fill: #FFFFFF;\n",
              "    }\n",
              "  </style>\n",
              "\n",
              "      <script>\n",
              "        const buttonEl =\n",
              "          document.querySelector('#df-126ec25e-67b8-43ba-a914-27ac1a0a7a49 button.colab-df-convert');\n",
              "        buttonEl.style.display =\n",
              "          google.colab.kernel.accessAllowed ? 'block' : 'none';\n",
              "\n",
              "        async function convertToInteractive(key) {\n",
              "          const element = document.querySelector('#df-126ec25e-67b8-43ba-a914-27ac1a0a7a49');\n",
              "          const dataTable =\n",
              "            await google.colab.kernel.invokeFunction('convertToInteractive',\n",
              "                                                     [key], {});\n",
              "          if (!dataTable) return;\n",
              "\n",
              "          const docLinkHtml = 'Like what you see? Visit the ' +\n",
              "            '<a target=\"_blank\" href=https://colab.research.google.com/notebooks/data_table.ipynb>data table notebook</a>'\n",
              "            + ' to learn more about interactive tables.';\n",
              "          element.innerHTML = '';\n",
              "          dataTable['output_type'] = 'display_data';\n",
              "          await google.colab.output.renderOutput(dataTable, element);\n",
              "          const docLink = document.createElement('div');\n",
              "          docLink.innerHTML = docLinkHtml;\n",
              "          element.appendChild(docLink);\n",
              "        }\n",
              "      </script>\n",
              "    </div>\n",
              "  </div>\n",
              "  "
            ]
          },
          "metadata": {},
          "execution_count": 34
        }
      ]
    },
    {
      "cell_type": "code",
      "source": [
        "#Tests:\n",
        "#Train model\n",
        "#model.fit(train_X, train_Y, validation_data=(test_X, test_Y), epochs=20, batch_size=32)"
      ],
      "metadata": {
        "id": "kHPP_nYQLmli"
      },
      "execution_count": 35,
      "outputs": []
    },
    {
      "cell_type": "markdown",
      "metadata": {
        "id": "D27bSHJbLaA9"
      },
      "source": [
        "https://www.datacamp.com/community/tutorials/convolutional-neural-networks-python\n",
        "https://www.analyticsvidhya.com/blog/2021/08/beginners-guide-to-convolutional-neural-network-with-implementation-in-python/\n",
        "https://pub.towardsai.net/convolutional-neural-networks-cnns-tutorial-with-python-417c29f0403f\n",
        "https://www.tensorflow.org/tutorials/images/cnn\n",
        "https://www.datacamp.com/blog/keras-cheat-sheet-neural-networks-in-python\n",
        "https://www.tensorflow.org/text/guide/word_embeddings\n",
        "https://www.kaggle.com/code/kawiswara/malicious-web-detection-with-1d-cnn#Create-CNN-Model\n",
        "https://towardsdatascience.com/building-a-one-hot-encoding-layer-with-tensorflow-f907d686bf39"
      ]
    }
  ],
  "metadata": {
    "accelerator": "GPU",
    "colab": {
      "provenance": []
    },
    "kernelspec": {
      "display_name": "Python 3",
      "name": "python3"
    },
    "language_info": {
      "name": "python"
    }
  },
  "nbformat": 4,
  "nbformat_minor": 0
}